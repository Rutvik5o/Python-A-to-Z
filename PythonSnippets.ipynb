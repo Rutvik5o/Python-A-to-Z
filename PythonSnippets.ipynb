{
 "cells": [
  {
   "cell_type": "markdown",
   "id": "e3cbcdaf-7a27-45b2-86e6-e0d77b5a9e7f",
   "metadata": {},
   "source": [
    "## Anagrams : Same letters with differnt order"
   ]
  },
  {
   "cell_type": "code",
   "execution_count": 2,
   "id": "7e9894ee-cacc-4326-8f72-dc466859780d",
   "metadata": {},
   "outputs": [
    {
     "name": "stdout",
     "output_type": "stream",
     "text": [
      "True\n"
     ]
    }
   ],
   "source": [
    "str1 = \"listen\"\n",
    "str2 = \"slient\"\n",
    "\n",
    "str1 = str1.replace(\" \",\"\").upper()\n",
    "str2 = str2.replace(\" \",\"\").upper()\n",
    "\n",
    "if sorted(str1) == sorted(str2):\n",
    "    print(\"True\")\n",
    "else:\n",
    "    print(\"False\")\n",
    "    "
   ]
  },
  {
   "cell_type": "markdown",
   "id": "d65b666b-bd9b-4b09-b8ae-6404ba9bfa96",
   "metadata": {},
   "source": [
    "## check Palindrom using extended slicing technique"
   ]
  },
  {
   "cell_type": "code",
   "execution_count": 4,
   "id": "c0ee43eb-9bb4-4be1-9400-48e81d04cdc7",
   "metadata": {},
   "outputs": [
    {
     "name": "stdin",
     "output_type": "stream",
     "text": [
      "Enter text hellos ir\n"
     ]
    },
    {
     "name": "stdout",
     "output_type": "stream",
     "text": [
      "False\n"
     ]
    }
   ],
   "source": [
    "str1 = str(input(\"Enter text\")).lower()\n",
    "\n",
    "if str1 == str1[::-1]:\n",
    "    print(\"True\")\n",
    "else:\n",
    "    print(\"False\")"
   ]
  },
  {
   "cell_type": "markdown",
   "id": "7622cd69-87d2-4d59-bff9-b3593d351d7c",
   "metadata": {},
   "source": [
    "## Count white space in a string"
   ]
  },
  {
   "cell_type": "code",
   "execution_count": 6,
   "id": "1fae4d0a-74c6-4840-a43d-886d29c30727",
   "metadata": {},
   "outputs": [
    {
     "name": "stdin",
     "output_type": "stream",
     "text": [
      "Enter a text yahu \n"
     ]
    },
    {
     "name": "stdout",
     "output_type": "stream",
     "text": [
      "1\n"
     ]
    }
   ],
   "source": [
    "string = str(input(\"Enter a text\"))\n",
    "\n",
    "print(string.count(\" \"))"
   ]
  },
  {
   "cell_type": "markdown",
   "id": "bfb16616-119f-465e-b62e-f994e580142f",
   "metadata": {},
   "source": [
    "## Counting Digits,letter and space in string"
   ]
  },
  {
   "cell_type": "code",
   "execution_count": 8,
   "id": "d839ff1f-b050-4fcc-b1e7-4e9171663eb2",
   "metadata": {},
   "outputs": [
    {
     "name": "stdin",
     "output_type": "stream",
     "text": [
      "Enter a text hells fsa fDFA% f3483 gfs\n"
     ]
    },
    {
     "name": "stdout",
     "output_type": "stream",
     "text": [
      "4\n",
      "16\n",
      "4\n"
     ]
    }
   ],
   "source": [
    "import re\n",
    "\n",
    "name=input(\"Enter a text\")\n",
    "\n",
    "digitCount = re.sub(\"[^0-9]\",\"\",name)\n",
    "print(len(digitCount))\n",
    "#re.sub(pattern,replacement,string)\n",
    "#^ -> not \n",
    "# remove everything except digit\n",
    "\n",
    "letterCount = re.sub(\"[^a-zA-Z]\",\"\",name)\n",
    "print(len(letterCount))\n",
    "\n",
    "spaceCount= re.findall(r\"[\\s]\",name)\n",
    "print(len(spaceCount))"
   ]
  },
  {
   "cell_type": "markdown",
   "id": "26db6976-088b-464e-9b38-48b9552539a7",
   "metadata": {},
   "source": [
    "## Counting speacial charccer in a string\n",
    "\n"
   ]
  },
  {
   "cell_type": "code",
   "execution_count": 10,
   "id": "a15590ce-8e51-466d-8d7c-9a5ffadb993a",
   "metadata": {},
   "outputs": [
    {
     "name": "stdin",
     "output_type": "stream",
     "text": [
      "Enter a text hello sir *S w43*1f*_\n"
     ]
    },
    {
     "data": {
      "text/plain": [
       "4"
      ]
     },
     "execution_count": 10,
     "metadata": {},
     "output_type": "execute_result"
    }
   ],
   "source": [
    "def count_sp_char(string):\n",
    "    sp_char = \"!@#$%^&*()_+{}'<>?\"\n",
    "    count = 0\n",
    "    for i in string:\n",
    "        if i in sp_char:\n",
    "            count += 1\n",
    "    return count\n",
    "text=str(input(\"Enter a text\"))\n",
    "result=count_sp_char(text)\n",
    "result"
   ]
  },
  {
   "cell_type": "markdown",
   "id": "fe385d3a-65bf-4bec-a6dd-73ec87ce6dd3",
   "metadata": {},
   "source": [
    "## Removing all whitespace in a string"
   ]
  },
  {
   "cell_type": "code",
   "execution_count": 12,
   "id": "155f6531-7283-4ecb-a352-f8fbe50a7f22",
   "metadata": {},
   "outputs": [
    {
     "name": "stdin",
     "output_type": "stream",
     "text": [
      "Enter a text ssf  af  ga\n"
     ]
    },
    {
     "data": {
      "text/plain": [
       "'ssfafga'"
      ]
     },
     "execution_count": 12,
     "metadata": {},
     "output_type": "execute_result"
    }
   ],
   "source": [
    "strr = input(\"Enter a text\")\n",
    "\n",
    "string2 = \"\".join(char for char in string if char != \" \")\n",
    "string2\n",
    "\n",
    "#another way\n",
    "string3 = strr.replace(\" \",\"\")\n",
    "string3\n",
    "\n",
    "#anoter way\n",
    "spaces = re.compile(r'\\s+') #prepare the pattern so you can reuse it\n",
    "result = re.sub(spaces,\"\",strr) #find all whitespace and replace with nothing\n",
    "result"
   ]
  },
  {
   "cell_type": "markdown",
   "id": "2d18784b-2b19-4811-9055-93d4a78d146d",
   "metadata": {},
   "source": [
    "## Python Pyramid"
   ]
  },
  {
   "cell_type": "code",
   "execution_count": 14,
   "id": "421c7810-9a88-44ab-bef8-ffa28561b22a",
   "metadata": {},
   "outputs": [
    {
     "name": "stdin",
     "output_type": "stream",
     "text": [
      "Enter the number that till you want to print: 8\n"
     ]
    },
    {
     "name": "stdout",
     "output_type": "stream",
     "text": [
      "        *\n",
      "       ***\n",
      "      *****\n",
      "     *******\n",
      "    *********\n",
      "   ***********\n",
      "  *************\n",
      " ***************\n"
     ]
    }
   ],
   "source": [
    "def pyramid(n):\n",
    "    for i in range(n):\n",
    "        for j in range(i,n):\n",
    "            print(\" \",end=\"\")\n",
    "        for j in range(i+1):\n",
    "            print(\"*\",end=\"\")\n",
    "        for j in range(i):\n",
    "            print(\"*\",end=\"\")\n",
    "        print(\"\")\n",
    "num=int(input(\"Enter the number that till you want to print:\"))\n",
    "pyramid(num)"
   ]
  },
  {
   "cell_type": "code",
   "execution_count": 15,
   "id": "0a96d356-4f72-46c6-a49c-cbbe20384cb1",
   "metadata": {},
   "outputs": [
    {
     "name": "stdin",
     "output_type": "stream",
     "text": [
      "Enter odd number: 7\n"
     ]
    },
    {
     "name": "stdout",
     "output_type": "stream",
     "text": [
      "    *\n",
      "   ***\n",
      "  *****\n",
      " *******\n",
      "*********\n",
      " ******\n",
      "  ****\n",
      "   **\n",
      "    \n"
     ]
    }
   ],
   "source": [
    "number = int(input(\"Enter odd number:\"))\n",
    "cnt = num//2\n",
    "scnt=1\n",
    "\n",
    "for i in range(cnt+1):\n",
    "    print(cnt*\" \"+\"*\"*scnt)\n",
    "    cnt-=1\n",
    "    scnt+=2\n",
    "scnt=num-2\n",
    "cnt=1\n",
    "\n",
    "for i in range(num//2):\n",
    "    print(cnt*\" \"+\"*\"*scnt)\n",
    "    scnt-=2\n",
    "    cnt+=1"
   ]
  },
  {
   "cell_type": "markdown",
   "id": "e45e8cd6-1ffb-452c-aa6a-fd5d333dfcc1",
   "metadata": {},
   "source": [
    "## Randomizing the items of a list"
   ]
  },
  {
   "cell_type": "code",
   "execution_count": 17,
   "id": "fe3a81be-6113-4e84-a84b-669f530b3317",
   "metadata": {},
   "outputs": [
    {
     "data": {
      "text/plain": [
       "['is', 'Python', 'easy']"
      ]
     },
     "execution_count": 17,
     "metadata": {},
     "output_type": "execute_result"
    }
   ],
   "source": [
    "from random import shuffle\n",
    "\n",
    "l1 = [\"Python\",\"is\",\"easy\"]\n",
    "shuffle(l1)\n",
    "l1"
   ]
  },
  {
   "cell_type": "markdown",
   "id": "21ee8f06-0c1d-4e62-a47c-0435b4067c64",
   "metadata": {},
   "source": [
    "## Prime Generator"
   ]
  },
  {
   "cell_type": "code",
   "execution_count": 19,
   "id": "73c4af71-d41d-4d01-9685-a016f988aa04",
   "metadata": {},
   "outputs": [
    {
     "name": "stdin",
     "output_type": "stream",
     "text": [
      "Enter no. of prime numbers required 43\n"
     ]
    },
    {
     "name": "stdout",
     "output_type": "stream",
     "text": [
      "2 3 5 7 11 13 17 19 23 29 31 37 41 43 47 53 59 61 67 71 73 79 83 89 97 101 103 107 109 113 127 131 137 139 149 151 157 163 167 173 179 181 191 "
     ]
    }
   ],
   "source": [
    "def isprime(num):\n",
    "    for i in range(2,num):\n",
    "        if num % i == 0:\n",
    "            return False\n",
    "    return True\n",
    "\n",
    "def prime_generator(n):\n",
    "    num = 2\n",
    "    while n:\n",
    "        if isprime(num):\n",
    "            yield num #can be used return\n",
    "            n -= 1\n",
    "        num += 1\n",
    "x=int(input(\"Enter no. of prime numbers required\"))\n",
    "it = prime_generator(x)\n",
    "for e in it:\n",
    "    print(e,end=\" \")"
   ]
  },
  {
   "cell_type": "markdown",
   "id": "683c1da4-be18-49fa-af83-028b7026e05d",
   "metadata": {},
   "source": [
    "## Prime or not"
   ]
  },
  {
   "cell_type": "markdown",
   "id": "56ae4e8a-a4c6-4259-bf74-4164da600608",
   "metadata": {},
   "source": [
    "def prime_no(n):\n",
    "    flag = False\n",
    "    if n < 2:\n",
    "        return flag\n",
    "    else:\n",
    "        for i in range(2,n):\n",
    "            if n % i == 0:\n",
    "                return flag\n",
    "            else:\n",
    "                flag = True\n",
    "                return flag\n",
    "num = int(input(\"Enter a number:\"))\n",
    "prime_no(num)\n",
    "    "
   ]
  },
  {
   "cell_type": "code",
   "execution_count": 22,
   "id": "591e310a-7d58-48a2-99d6-aea90afb50a2",
   "metadata": {},
   "outputs": [
    {
     "name": "stdin",
     "output_type": "stream",
     "text": [
      "Enter a number: 45\n"
     ]
    },
    {
     "data": {
      "text/plain": [
       "False"
      ]
     },
     "execution_count": 22,
     "metadata": {},
     "output_type": "execute_result"
    }
   ],
   "source": [
    "def prime_no(n):\n",
    "    flag = False\n",
    "    if n < 2:\n",
    "        return flag\n",
    "    else:\n",
    "        for i in range(2,n):\n",
    "            if n % i == 0:\n",
    "                return flag\n",
    "        flag = true\n",
    "        return flag\n",
    "num = int(input(\"Enter a number:\"))\n",
    "prime_no(num)"
   ]
  },
  {
   "cell_type": "markdown",
   "id": "10c4dc6d-4c43-4f6c-82f4-6e5d272c15de",
   "metadata": {},
   "source": [
    "## variable length arg"
   ]
  },
  {
   "cell_type": "code",
   "execution_count": 24,
   "id": "eb821562-bdac-4eec-b840-b04593cb78c2",
   "metadata": {},
   "outputs": [
    {
     "name": "stdout",
     "output_type": "stream",
     "text": [
      "Average-> 35.94117647058823\n",
      "Average-> 161.66666666666666\n"
     ]
    }
   ],
   "source": [
    "def average(*t):\n",
    "    avg = sum(t)/len(t)\n",
    "    return avg\n",
    "\n",
    "result1 = average(43,5,47,8,2,4,8,5,8,8,7,4,4,4,441,8,5)\n",
    "result2 = average(825,85,47,7,1,5)\n",
    "print(\"Average->\",result1)\n",
    "print(\"Average->\",result2)"
   ]
  },
  {
   "cell_type": "markdown",
   "id": "8b695ded-7e6d-4bf3-a33d-496e83170f94",
   "metadata": {},
   "source": [
    "## with kwargs"
   ]
  },
  {
   "cell_type": "code",
   "execution_count": 26,
   "id": "05bb43c5-2be1-4a71-a343-c67848cf8a66",
   "metadata": {},
   "outputs": [
    {
     "name": "stdout",
     "output_type": "stream",
     "text": [
      "Average is: 52.75\n",
      "Average is: 20.75\n"
     ]
    }
   ],
   "source": [
    "def average_kw(**kwargs):\n",
    "    values = list(kwargs.values())\n",
    "    avg = sum(values)/len(values)\n",
    "    return avg\n",
    "\n",
    "result1 = average_kw(num1=32,num2=35,num3=65,num4=79)\n",
    "result2 = average_kw(value1=5,values2=10,values3=15,value4=53)\n",
    "\n",
    "print(f\"Average is: {result1:.2f}\")\n",
    "print(f\"Average is: {result2:.2f}\")"
   ]
  },
  {
   "cell_type": "markdown",
   "id": "9af2837e-a302-45ad-89b3-e4f8552286ee",
   "metadata": {},
   "source": [
    "## Instance Variable"
   ]
  },
  {
   "cell_type": "code",
   "execution_count": 28,
   "id": "8664ee0c-cd6b-4ef7-886c-8bf111bec22c",
   "metadata": {},
   "outputs": [
    {
     "name": "stdout",
     "output_type": "stream",
     "text": [
      "{'a': 5, 'b': 10, 'c': 15}\n",
      "{'a': 5}\n"
     ]
    }
   ],
   "source": [
    "class test:\n",
    "    def __init__(self):\n",
    "        self.a = 5\n",
    "    def f1(self):\n",
    "        self.b = 10\n",
    "t1 = test()\n",
    "t2 = test()\n",
    "t1.f1()\n",
    "t1.c = 15 #3rd instance variable\n",
    "print(t1.__dict__)\n",
    "print(t2.__dict__)\n"
   ]
  },
  {
   "cell_type": "markdown",
   "id": "748db606-c3fc-4359-94f6-1ad0fc24bcf2",
   "metadata": {},
   "source": [
    "## Lambda Function"
   ]
  },
  {
   "cell_type": "code",
   "execution_count": 30,
   "id": "274a1c1d-2ebd-4a94-bdfb-235c750d1fa7",
   "metadata": {},
   "outputs": [
    {
     "name": "stdout",
     "output_type": "stream",
     "text": [
      "10\n",
      "92\n"
     ]
    }
   ],
   "source": [
    "f = lambda a,b : a+b\n",
    "r = f(3,7)\n",
    "print(r)\n",
    "#or\n",
    "print((lambda a,b:a+b)(85,7))"
   ]
  },
  {
   "cell_type": "markdown",
   "id": "4f81bcb9-b66c-4aba-bb30-288de14c2870",
   "metadata": {},
   "source": [
    "## Finding Factorail usig Lambda"
   ]
  },
  {
   "cell_type": "code",
   "execution_count": 32,
   "id": "ef1e7eb1-c210-4ed1-b4d4-405db508b7c7",
   "metadata": {},
   "outputs": [
    {
     "data": {
      "text/plain": [
       "120"
      ]
     },
     "execution_count": 32,
     "metadata": {},
     "output_type": "execute_result"
    }
   ],
   "source": [
    "f = lambda n : 1 if n == 0 else n*f(n-1)\n",
    "f(5)"
   ]
  },
  {
   "cell_type": "code",
   "execution_count": 33,
   "id": "1596523b-ddbe-49c4-b998-6628a0c81a0f",
   "metadata": {},
   "outputs": [
    {
     "name": "stdin",
     "output_type": "stream",
     "text": [
      "Enter a number: 43\n"
     ]
    },
    {
     "name": "stdout",
     "output_type": "stream",
     "text": [
      "The Factorial of 43 is  60415263063373835637355132068513997507264512000000000\n"
     ]
    }
   ],
   "source": [
    "num = int(input(\"Enter a number:\"))\n",
    "\n",
    "factorial = 1\n",
    "\n",
    "if num < 0:\n",
    "    print(\"Sorry, factorial does not exist for negative number\")\n",
    "elif num == 0:\n",
    "    print(\"The Factorial of 0 is 1\")\n",
    "else:\n",
    "    for i in range(1,num+1):\n",
    "        factorial *= i\n",
    "    print(f\"The Factorial of {num} is \",factorial)"
   ]
  },
  {
   "cell_type": "markdown",
   "id": "a0703c49-607d-4351-9ae6-6ae906cce820",
   "metadata": {},
   "source": [
    "## List Comprehension"
   ]
  },
  {
   "cell_type": "code",
   "execution_count": 35,
   "id": "b273f8c3-4b2e-4865-8690-2340d33cdbaf",
   "metadata": {},
   "outputs": [
    {
     "name": "stdout",
     "output_type": "stream",
     "text": [
      "[2, 4, 6, 8, 10, 12, 14, 16, 18]\n",
      "[33, 5, 5, 26325, 5, 263, 1, 452343]\n"
     ]
    }
   ],
   "source": [
    "l1 = [2*e for e in range(1,10)]\n",
    "print(l1)\n",
    "\n",
    "l2 = [34,5,6,6,26326,6,3,264,2,452344,53]\n",
    "l3 = [e-1 for e in l2 if e%2==0]\n",
    "print(l3)"
   ]
  },
  {
   "cell_type": "markdown",
   "id": "eb0fbfb7-903b-4d13-ba00-66ce896e22dd",
   "metadata": {},
   "source": [
    "## Use of split & Join function"
   ]
  },
  {
   "cell_type": "code",
   "execution_count": 37,
   "id": "ec862cb3-4391-4bb7-932b-ea5e2feb58fd",
   "metadata": {},
   "outputs": [
    {
     "name": "stdout",
     "output_type": "stream",
     "text": [
      "['what', 'is', 'right', 'in', 'your', 'mind', 'is', 'right', 'in', 'your', 'world']\n",
      "['world', 'your', 'in', 'right', 'is', 'mind', 'your', 'in', 'right', 'is', 'what']\n",
      "world your in right is mind your in right is what\n"
     ]
    }
   ],
   "source": [
    "s = \"what is right in your mind is right in your world\"\n",
    "s1=s.split(\" \")\n",
    "print(s1)\n",
    "\n",
    "#Reverse\n",
    "s1=s1[::-1]\n",
    "print(s1)\n",
    "\n",
    "#join\n",
    "print(\" \".join(s1))"
   ]
  },
  {
   "cell_type": "markdown",
   "id": "ceb91ebe-7b27-4e33-9c1f-9fcb5da245f1",
   "metadata": {},
   "source": [
    "## Global & Local Variable"
   ]
  },
  {
   "cell_type": "code",
   "execution_count": 39,
   "id": "ac849851-6bda-46d2-a5e1-69b3b0e4479c",
   "metadata": {},
   "outputs": [
    {
     "name": "stdout",
     "output_type": "stream",
     "text": [
      "x=15 y=10\n",
      "15\n"
     ]
    }
   ],
   "source": [
    "x = 5\n",
    "def f1():\n",
    "    global x\n",
    "    x = 15 #global variable updated\n",
    "    y = 10 #local variable\n",
    "    print(\"x=%d y=%d\"%(x,y))\n",
    "f1()\n",
    "print(x)"
   ]
  },
  {
   "cell_type": "markdown",
   "id": "bd1aa2fa-e6e7-491b-a203-7550e107914c",
   "metadata": {},
   "source": [
    "## Global Function"
   ]
  },
  {
   "cell_type": "code",
   "execution_count": 41,
   "id": "1f75e3a1-79d2-4fc7-996f-ef7d40fba002",
   "metadata": {},
   "outputs": [
    {
     "name": "stdout",
     "output_type": "stream",
     "text": [
      "Local x = 10 Global x = 5\n"
     ]
    }
   ],
   "source": [
    "x = 5\n",
    "def fun():\n",
    "    x = 10\n",
    "    #globals() : function to access or modify global variables\n",
    "    d = globals()\n",
    "    #d['x'] = 15\n",
    "    print(\"Local x = %d Global x = %d\"%(x,d['x']))\n",
    "fun()"
   ]
  },
  {
   "cell_type": "markdown",
   "id": "e072d484-7335-4389-89d5-8506740d08cd",
   "metadata": {},
   "source": [
    "## Type conversion Basics"
   ]
  },
  {
   "cell_type": "code",
   "execution_count": 43,
   "id": "a9882281-a27e-4a8a-bb43-c2e9c0ac6207",
   "metadata": {},
   "outputs": [
    {
     "name": "stdout",
     "output_type": "stream",
     "text": [
      "123\n",
      "123.43\n",
      "(3+4j)\n",
      "12\n",
      "True\n",
      "0b11001\n",
      "0o31\n",
      "0x19\n",
      "65\n",
      "b\n"
     ]
    }
   ],
   "source": [
    "x = int('123')\n",
    "a = float('123.43')\n",
    "b = complex('3+4j')\n",
    "c = str(12)\n",
    "d = bool('True')\n",
    "e = bin(25)\n",
    "f = oct(25)\n",
    "g = hex(25)\n",
    "h = ord('A') # char -> unicode\n",
    "i = chr(98) # unicode -> char\n",
    "print(x,a,b,c,d,e,f,g,h,i,sep=\"\\n\")"
   ]
  },
  {
   "cell_type": "markdown",
   "id": "93d8ebd4-ffca-4ca6-aa6b-df359d41c3b0",
   "metadata": {},
   "source": [
    "## Type Conversion"
   ]
  },
  {
   "cell_type": "code",
   "execution_count": 45,
   "id": "6aefc2ba-dd7b-4d40-8b28-8f84c7a9e04c",
   "metadata": {},
   "outputs": [
    {
     "name": "stdout",
     "output_type": "stream",
     "text": [
      "<class 'int'>\n",
      "<class 'str'>\n",
      "5123\n",
      "128\n"
     ]
    }
   ],
   "source": [
    "x = 5\n",
    "print(type(x))\n",
    "\n",
    "s1='123'\n",
    "print(type(s1))\n",
    "print(str(x) + s1)\n",
    "print(x + int(s1))\n"
   ]
  },
  {
   "cell_type": "markdown",
   "id": "0e7a48f9-3539-46ee-977c-204043baf78e",
   "metadata": {},
   "source": [
    "## Python Decorator"
   ]
  },
  {
   "cell_type": "code",
   "execution_count": 47,
   "id": "8d35113a-c594-4c01-9472-221c25a62863",
   "metadata": {},
   "outputs": [
    {
     "name": "stdout",
     "output_type": "stream",
     "text": [
      "Before hello function\n",
      "Hello\n",
      "Thanks for using the function\n",
      "Before hello function\n",
      "4\n",
      "Thanks for using the function\n"
     ]
    }
   ],
   "source": [
    "def welcome(fx):\n",
    "    def mfx(*t,**d):\n",
    "        print(\"Before hello function\")\n",
    "        fx(*t,**d) #*args to take argumnet as tuple, **kwargs to take arguments\n",
    "        print(\"Thanks for using the function\")\n",
    "    return mfx\n",
    "\n",
    "#decorator function without arguments\n",
    "@welcome\n",
    "def hello():\n",
    "    print(\"Hello\")\n",
    "\n",
    "#decorator function with arguments\n",
    "@welcome\n",
    "def add(a,b):\n",
    "    print(a+b)\n",
    "\n",
    "hello()\n",
    "add(1,3)"
   ]
  },
  {
   "cell_type": "code",
   "execution_count": 48,
   "id": "1ab37c10-fbd2-4ba4-9ca2-6c4962352eb7",
   "metadata": {},
   "outputs": [
    {
     "data": {
      "text/plain": [
       "900"
      ]
     },
     "execution_count": 48,
     "metadata": {},
     "output_type": "execute_result"
    }
   ],
   "source": [
    "# Class Decorator\n",
    "\n",
    "class Calculator:\n",
    "    def __init__(self,func):\n",
    "        self.function = func\n",
    "\n",
    "    def __call__(self,*t,**d):\n",
    "        result = self.function(*t,**d)\n",
    "        return result**2\n",
    "\n",
    "@Calculator\n",
    "def add(a,b):\n",
    "    return a+b\n",
    "\n",
    "add(10,20)\n"
   ]
  },
  {
   "cell_type": "code",
   "execution_count": 59,
   "id": "03b8bec1-149f-454a-8606-22dbc97c3135",
   "metadata": {},
   "outputs": [
    {
     "name": "stdout",
     "output_type": "stream",
     "text": [
      "Pass\n",
      "Pass\n",
      "Pass\n",
      "Fail\n",
      "Pass\n",
      "Fail\n",
      "Distinction\n",
      "Pass\n"
     ]
    },
    {
     "data": {
      "text/plain": [
       "['Pass', 'Pass', 'Pass', 'Fail', 'Pass', 'Fail', 'Pass']"
      ]
     },
     "execution_count": 59,
     "metadata": {},
     "output_type": "execute_result"
    }
   ],
   "source": [
    "def decor_result(result_function):\n",
    "    def distinction(marks):\n",
    "        results = []\n",
    "        for m in marks:\n",
    "            if m >= 75:\n",
    "                print(\"Distinction\")\n",
    "            results.append(result_function([m]))\n",
    "        return results\n",
    "    return distinction\n",
    "\n",
    "@decor_result\n",
    "def result(marks):\n",
    "    for m in marks:\n",
    "        if m >= 35:\n",
    "            pass\n",
    "        else:\n",
    "            print(\"Fail\")\n",
    "            return \"Fail\"\n",
    "    else:\n",
    "        print(\"Pass\")\n",
    "        return \"Pass\"\n",
    "\n",
    "#Get the results for each element\n",
    "results = result([45,65,63,26,36,16,263])\n",
    "results"
   ]
  },
  {
   "cell_type": "markdown",
   "id": "2db4ebff-2f8e-4ead-8591-71a6378cb1ca",
   "metadata": {},
   "source": [
    "## Iterator in Python"
   ]
  },
  {
   "cell_type": "code",
   "execution_count": null,
   "id": "a6256e6c-caee-47ae-a9b1-6f8403b76130",
   "metadata": {},
   "outputs": [],
   "source": [
    "l1 = [343,5,25,263,6,12,62]\n",
    "it = iter(l1)\n",
    "\n",
    "while True:\n",
    "    try:\n",
    "        print(next(it))\n",
    "    except StopIteration:\n",
    "        break"
   ]
  },
  {
   "cell_type": "markdown",
   "id": "29cd7984-2467-4b51-8a0a-6dafd84ef2fa",
   "metadata": {},
   "source": [
    "## Generator for first N Natural even number"
   ]
  },
  {
   "cell_type": "code",
   "execution_count": null,
   "id": "defdca01-4916-4ae0-a315-acaad21711c5",
   "metadata": {},
   "outputs": [],
   "source": [
    "def evenNum(n):\n",
    "    i = 1\n",
    "    while n:\n",
    "        yield 2*i\n",
    "        i += 1\n",
    "        n -= 1\n",
    "\n",
    "it = evenNum(100)\n",
    "even_list = []\n",
    "\n",
    "while True:\n",
    "    try:\n",
    "        even_list.append(next(it))\n",
    "    except StopIteration:\n",
    "        break\n",
    "\n",
    "print(even_list)"
   ]
  },
  {
   "cell_type": "markdown",
   "id": "4fd78002-7cc5-4b52-b430-c61ecf17d69f",
   "metadata": {},
   "source": [
    "## Function Overloading"
   ]
  },
  {
   "cell_type": "markdown",
   "id": "fb7e39a4-6f7c-4552-85f5-86672f34e2e0",
   "metadata": {},
   "source": [
    "### Default Arguments"
   ]
  },
  {
   "cell_type": "code",
   "execution_count": null,
   "id": "e74136d2-0dff-4de4-8cdf-8dc8ebac9097",
   "metadata": {},
   "outputs": [],
   "source": [
    "def greet(name,greeting=\"hello\"):\n",
    "    return f\"{greeting},{name}!\"\n",
    "\n",
    "print(greet(\"ABC\"))\n",
    "print(greet(\"Hello\",\"Hellow\"))"
   ]
  },
  {
   "cell_type": "markdown",
   "id": "fe7ec04b-ea9d-46b4-aa26-88d28dfa93ff",
   "metadata": {},
   "source": [
    "### Variable-length Arguments"
   ]
  },
  {
   "cell_type": "code",
   "execution_count": null,
   "id": "7c7934a1-c49d-48a0-bcf4-55d917a7bb52",
   "metadata": {},
   "outputs": [],
   "source": [
    "def add(*t):\n",
    "    return sum(t)\n",
    "\n",
    "print(add(1,3))\n",
    "print(add(1,353,5235,532))"
   ]
  },
  {
   "cell_type": "markdown",
   "id": "3930c48b-124b-408c-ba57-958943f73c3d",
   "metadata": {},
   "source": [
    "### Functools Single Dispatch"
   ]
  },
  {
   "cell_type": "code",
   "execution_count": null,
   "id": "b45f7edf-2417-4cbc-8123-eaa7afd49700",
   "metadata": {},
   "outputs": [],
   "source": [
    "from functools import singledispatch\n",
    "\n",
    "@singledispatch\n",
    "def process(data):\n",
    "    print(\"Default Processing arg:\",data)\n",
    "\n",
    "@process.register(int)\n",
    "def _(data):\n",
    "    print(\"Processing Integer:\",data)\n",
    "\n",
    "@process.register(str)\n",
    "def _(data):\n",
    "    print(\"Processing String:\",data)\n",
    "\n",
    "@process.register(list)\n",
    "def _(data):\n",
    "    print(\"Processing List:\",data)\n",
    "\n",
    "process(10)\n",
    "process(\"Hello\")\n",
    "process([1,2,3])\n",
    "process(3.14)\n",
    "\n",
    "#there is funntion handler for float so bydefault is executedd"
   ]
  },
  {
   "cell_type": "markdown",
   "id": "c9e87d79-c0fe-48b2-92cb-bf0f035b4eb5",
   "metadata": {},
   "source": [
    "### Class Methods"
   ]
  },
  {
   "cell_type": "code",
   "execution_count": null,
   "id": "68891698-5cbe-4cda-8cc5-50b59033d57e",
   "metadata": {},
   "outputs": [],
   "source": [
    "class Math:\n",
    "    @staticmethod\n",
    "    def multiply(*t):\n",
    "        result = 1\n",
    "        for num in t:\n",
    "            result *= num\n",
    "        return result\n",
    "        \n",
    "print(Math.multiply(2,453))\n",
    "print(Math.multiply(2,4,53,52))\n",
    "        "
   ]
  },
  {
   "cell_type": "markdown",
   "id": "4a5a02fc-5266-458b-9c48-e8cff67411ab",
   "metadata": {},
   "source": [
    "## Positional Arguments"
   ]
  },
  {
   "cell_type": "code",
   "execution_count": null,
   "id": "165dfe7d-f4eb-44f8-b81f-24955a85c947",
   "metadata": {},
   "outputs": [],
   "source": [
    "def f1(a,b):\n",
    "    print(\"A->\",a,\"B->\",b)\n",
    "\n",
    "f1(3,5)\n",
    "f1(a=4,b=50)"
   ]
  },
  {
   "cell_type": "markdown",
   "id": "29908b45-f8fa-4bdf-b35b-9a535c733b93",
   "metadata": {},
   "source": [
    "## Diff Sort vs Sorted"
   ]
  },
  {
   "cell_type": "code",
   "execution_count": null,
   "id": "067541f2-cc29-4d81-a47d-885ed8d4ec44",
   "metadata": {},
   "outputs": [],
   "source": [
    "#Sort : Only List and modify the original one\n",
    "l1 = [34,5,256,6,216,6,215,31,3]\n",
    "l1.sort()\n",
    "print(l1)"
   ]
  },
  {
   "cell_type": "code",
   "execution_count": null,
   "id": "135aaee3-f222-4eef-9eb0-c722d8b78296",
   "metadata": {},
   "outputs": [],
   "source": [
    "l1.append(46)\n",
    "print(l1)\n",
    "\n",
    "#to add element in list in sorted manner\n",
    "from sortedcontainers import SortedList\n",
    "l3=SortedList(l1)\n",
    "l3.add(48)\n",
    "print(l3)"
   ]
  },
  {
   "cell_type": "code",
   "execution_count": null,
   "id": "4d01e89c-085e-486d-bc83-3847f7c7c38a",
   "metadata": {},
   "outputs": [],
   "source": [
    "#Sorted: Use any iterabel,return new list\n",
    "l1 = [34,5,562,66,1,6,367,27,23,24,1267,1]\n",
    "l2=sorted(l1)\n",
    "l2"
   ]
  },
  {
   "cell_type": "markdown",
   "id": "57cac5be-7ae2-428e-afc2-295cbcbe4d29",
   "metadata": {},
   "source": [
    "## Static member variable in class"
   ]
  },
  {
   "cell_type": "code",
   "execution_count": null,
   "id": "85a3fee3-7781-461f-8389-8e3235c94d63",
   "metadata": {},
   "outputs": [],
   "source": [
    "class myclass:\n",
    "    a = 5 #static variable\n",
    "\n",
    "    def __init__(self):\n",
    "        self.x = 10 #instance variable : access any where\n",
    "        y = 4 #local variabble\n",
    "        myclass.b = 34 #static variable\n",
    "        print(myclass.b)\n",
    "\n",
    "    def f1(self):\n",
    "        myclass.c = 65 #static variable\n",
    "        print(myclass.b)\n",
    "\n",
    "    @staticmethod\n",
    "    def f2(self):\n",
    "        myclass.d = 66 #static variable\n",
    "\n",
    "    @classmethod\n",
    "    def f3(cls):\n",
    "        cls.e = 15 #static method\n",
    "        myclass.f = 53 #static variable\n",
    "        \n",
    "hello=myclass()\n",
    "hello.f1()\n",
    "myclass.f3()\n",
    "myclass.e\n",
    "myclass.f\n"
   ]
  },
  {
   "cell_type": "markdown",
   "id": "bac0c39f-56b2-4d19-8703-c1d880003960",
   "metadata": {},
   "source": [
    "## Else with loop"
   ]
  },
  {
   "cell_type": "code",
   "execution_count": 69,
   "id": "e5e3b18f-03d1-4796-855e-09ab4f86687b",
   "metadata": {},
   "outputs": [
    {
     "name": "stdout",
     "output_type": "stream",
     "text": [
      "1 2 3 4 5 "
     ]
    }
   ],
   "source": [
    "i = 1\n",
    "while i<=10:\n",
    "    print(i,end=\" \")\n",
    "    if i == 5:\n",
    "        break\n",
    "    i += 1\n",
    "else:\n",
    "    print(\"you are in else loop\")"
   ]
  },
  {
   "cell_type": "code",
   "execution_count": 71,
   "id": "fae26507-86fe-4741-a740-53e135076a9a",
   "metadata": {},
   "outputs": [
    {
     "name": "stdout",
     "output_type": "stream",
     "text": [
      "1 2 3 4 5 6 7 8 9 10 \n",
      "You are in else\n"
     ]
    }
   ],
   "source": [
    "i = 1\n",
    "while i<= 10:\n",
    "    print(i,end = \" \")\n",
    "    if i == 12:\n",
    "        break\n",
    "    i += 1\n",
    "else:\n",
    "    print(\"\\nYou are in else\")"
   ]
  },
  {
   "cell_type": "code",
   "execution_count": 77,
   "id": "f003817d-f103-46d9-90a5-fc8cf172b082",
   "metadata": {},
   "outputs": [
    {
     "name": "stdout",
     "output_type": "stream",
     "text": [
      "0 1 2 3 4 5 6 7 8 9 You are in else loop\n"
     ]
    }
   ],
   "source": [
    "for i in range(10):\n",
    "    print(i,end = \" \")\n",
    "    if i == 12:\n",
    "        break\n",
    "else:\n",
    "    print(\"You are in else loop\")"
   ]
  },
  {
   "cell_type": "markdown",
   "id": "d016d870-66ad-4780-b961-fc8c014cda7b",
   "metadata": {},
   "source": [
    "## Difference b/w class object & instance object"
   ]
  },
  {
   "cell_type": "code",
   "execution_count": 90,
   "id": "ff1f563c-38c9-4359-8225-4e3b94dbd5dc",
   "metadata": {},
   "outputs": [
    {
     "name": "stdout",
     "output_type": "stream",
     "text": [
      "20\n",
      "4 5\n",
      "4\n",
      "5\n"
     ]
    }
   ],
   "source": [
    "class test:\n",
    "    x = 20\n",
    "\n",
    "    def __init__(self,a,b):\n",
    "        self.a = a #instance member argument\n",
    "        self.b = b #instance member argument\n",
    "    def show(self):\n",
    "        print(self.a,self.b)\n",
    "\n",
    "print(test.x) # class object\n",
    "t1 = test(4,5) #instance object\n",
    "t1.show()\n",
    "\n",
    "#Displaying instance variables directly\n",
    "print(t1.a)\n",
    "print(t1.b)"
   ]
  },
  {
   "cell_type": "markdown",
   "id": "6b986c53-509d-4d32-9dc8-ecb137119459",
   "metadata": {},
   "source": [
    "## init method"
   ]
  },
  {
   "cell_type": "code",
   "execution_count": 93,
   "id": "41e2fbc3-782e-4bdd-b4a1-d1f5dfe3586f",
   "metadata": {},
   "outputs": [
    {
     "name": "stdout",
     "output_type": "stream",
     "text": [
      "10 20\n"
     ]
    }
   ],
   "source": [
    "class test:\n",
    "    def __init__(self):\n",
    "        self.a = 10\n",
    "        self.b = 20\n",
    "t1= test()\n",
    "print(t1.a,t1.b)"
   ]
  },
  {
   "cell_type": "markdown",
   "id": "ffaf5c77-6d5d-4359-86ec-0132fcdb6db4",
   "metadata": {},
   "source": [
    "## Default Argument"
   ]
  },
  {
   "cell_type": "code",
   "execution_count": 98,
   "id": "a5b2f6ab-9140-4fe1-87ab-b44b2446014a",
   "metadata": {},
   "outputs": [
    {
     "name": "stdout",
     "output_type": "stream",
     "text": [
      "The Addition is: 10\n"
     ]
    }
   ],
   "source": [
    "def add(a,b,c=5):\n",
    "    return a+b+c\n",
    "s= add(2,3)\n",
    "print(\"The Addition is:\",s)"
   ]
  },
  {
   "cell_type": "markdown",
   "id": "1e08c6be-8a87-42d6-ac29-e9c3c4cc133e",
   "metadata": {},
   "source": [
    "## Extract int type values"
   ]
  },
  {
   "cell_type": "code",
   "execution_count": 103,
   "id": "909c4d40-e56c-42a9-bb8a-123583943577",
   "metadata": {},
   "outputs": [
    {
     "name": "stdout",
     "output_type": "stream",
     "text": [
      "['abc', 243, 5.53, 'b', '4+4j', 53.16, 25, 53.15]\n",
      "--------------------------\n",
      "[243, 25]\n"
     ]
    }
   ],
   "source": [
    "l1 = ['abc',243,5.53,'b','4+4j',53.16,25,53.15]\n",
    "print(l1)\n",
    "print(\"--------------------------\")\n",
    "\n",
    "l2 = []\n",
    "for e in l1:\n",
    "    if type(e) == int:\n",
    "        l2.append(e)\n",
    "print(l2)"
   ]
  },
  {
   "cell_type": "markdown",
   "id": "dae613ae-b9c9-4815-8652-36236cbf2e67",
   "metadata": {},
   "source": [
    "## Monkey Patching"
   ]
  },
  {
   "cell_type": "code",
   "execution_count": 110,
   "id": "6f6560ca-8c3e-4ba4-bee8-7cac012bd37e",
   "metadata": {},
   "outputs": [
    {
     "name": "stdout",
     "output_type": "stream",
     "text": [
      "Before Monkey Patching\n",
      "\n",
      "send code to fetch data from database\n",
      "send code to fetch data from database\n",
      "\n",
      "After Monkey Patching\n",
      "\n",
      "some to code fetch data from test data\n",
      "some to code fetch data from test data\n"
     ]
    }
   ],
   "source": [
    "class Test:\n",
    "    def __init__(self,x):\n",
    "        self.a = x\n",
    "    def get_data(self):\n",
    "        print(\"send code to fetch data from database\")\n",
    "    def f1(self):\n",
    "        self.get_data()\n",
    "    def f2(self):\n",
    "        self.get_data()\n",
    "\n",
    "t1=Test(4)\n",
    "print(\"Before Monkey Patching\\n\")\n",
    "\n",
    "t1.f1()\n",
    "t1.f2()\n",
    "\n",
    "def get_new_data(self):\n",
    "    print(\"some to code fetch data from test data\")\n",
    "\n",
    "Test.get_data = get_new_data\n",
    "print(\"\\nAfter Monkey Patching\\n\")\n",
    "\n",
    "t1.f1()\n",
    "t1.f2()"
   ]
  },
  {
   "cell_type": "markdown",
   "id": "e93a8ef0-b1f2-4fa8-8966-b4717d7890f5",
   "metadata": {},
   "source": [
    "## Prime or not"
   ]
  },
  {
   "cell_type": "code",
   "execution_count": 8,
   "id": "921e8b8b-e534-4862-ace3-585ae1cd8c53",
   "metadata": {},
   "outputs": [
    {
     "name": "stdin",
     "output_type": "stream",
     "text": [
      "Enter a number 47\n"
     ]
    },
    {
     "name": "stdout",
     "output_type": "stream",
     "text": [
      "Number is prime\n"
     ]
    }
   ],
   "source": [
    "num = int(input(\"Enter a number\"))\n",
    "\n",
    "for i in range(2,num):\n",
    "    if num % i == 0:\n",
    "        print(\"Num is not prime\")\n",
    "        break\n",
    "else:\n",
    "        print(\"Number is prime\")"
   ]
  },
  {
   "cell_type": "markdown",
   "id": "5177d5a9-fa31-41fb-adb5-bdc5ee3348aa",
   "metadata": {},
   "source": [
    "## GCD of two number"
   ]
  },
  {
   "cell_type": "code",
   "execution_count": 15,
   "id": "844f2787-dec2-425d-9ffc-74ba4b7b8d26",
   "metadata": {},
   "outputs": [
    {
     "name": "stdin",
     "output_type": "stream",
     "text": [
      "Enter 1st number: 54\n",
      "Enter 2nd number: 62\n"
     ]
    },
    {
     "data": {
      "text/plain": [
       "2"
      ]
     },
     "execution_count": 15,
     "metadata": {},
     "output_type": "execute_result"
    }
   ],
   "source": [
    "ab = int(input(\"Enter 1st number:\"))\n",
    "cd = int(input(\"Enter 2nd number:\"))\n",
    "\n",
    "def gcd(a,b):\n",
    "    if a == 0 or a == b:\n",
    "        return b\n",
    "    elif b == 0:\n",
    "        return 0\n",
    "    elif a>b:\n",
    "        return gcd(a-b,b)\n",
    "    return gcd(a,b-a)\n",
    "\n",
    "gcd(ab,cd)"
   ]
  },
  {
   "cell_type": "markdown",
   "id": "57eaaa66-6d60-4df1-bf96-91ce1ad125bb",
   "metadata": {},
   "source": [
    "## Patterns"
   ]
  },
  {
   "cell_type": "code",
   "execution_count": 24,
   "id": "e97afedb-4288-4783-bf68-a188eee86acd",
   "metadata": {},
   "outputs": [
    {
     "name": "stdin",
     "output_type": "stream",
     "text": [
      "Enter a number 100\n"
     ]
    },
    {
     "name": "stdout",
     "output_type": "stream",
     "text": [
      "* \n",
      "* * \n",
      "* * * \n",
      "* * * * \n",
      "* * * * * \n",
      "* * * * * * \n",
      "* * * * * * * \n",
      "* * * * * * * * \n",
      "* * * * * * * * * \n",
      "* * * * * * * * * * \n",
      "* * * * * * * * * * * \n",
      "* * * * * * * * * * * * \n",
      "* * * * * * * * * * * * * \n",
      "* * * * * * * * * * * * * * \n",
      "* * * * * * * * * * * * * * * \n",
      "* * * * * * * * * * * * * * * * \n",
      "* * * * * * * * * * * * * * * * * \n",
      "* * * * * * * * * * * * * * * * * * \n",
      "* * * * * * * * * * * * * * * * * * * \n",
      "* * * * * * * * * * * * * * * * * * * * \n",
      "* * * * * * * * * * * * * * * * * * * * * \n",
      "* * * * * * * * * * * * * * * * * * * * * * \n",
      "* * * * * * * * * * * * * * * * * * * * * * * \n",
      "* * * * * * * * * * * * * * * * * * * * * * * * \n",
      "* * * * * * * * * * * * * * * * * * * * * * * * * \n",
      "* * * * * * * * * * * * * * * * * * * * * * * * * * \n",
      "* * * * * * * * * * * * * * * * * * * * * * * * * * * \n",
      "* * * * * * * * * * * * * * * * * * * * * * * * * * * * \n",
      "* * * * * * * * * * * * * * * * * * * * * * * * * * * * * \n",
      "* * * * * * * * * * * * * * * * * * * * * * * * * * * * * * \n",
      "* * * * * * * * * * * * * * * * * * * * * * * * * * * * * * * \n",
      "* * * * * * * * * * * * * * * * * * * * * * * * * * * * * * * * \n",
      "* * * * * * * * * * * * * * * * * * * * * * * * * * * * * * * * * \n",
      "* * * * * * * * * * * * * * * * * * * * * * * * * * * * * * * * * * \n",
      "* * * * * * * * * * * * * * * * * * * * * * * * * * * * * * * * * * * \n",
      "* * * * * * * * * * * * * * * * * * * * * * * * * * * * * * * * * * * * \n",
      "* * * * * * * * * * * * * * * * * * * * * * * * * * * * * * * * * * * * * \n",
      "* * * * * * * * * * * * * * * * * * * * * * * * * * * * * * * * * * * * * * \n",
      "* * * * * * * * * * * * * * * * * * * * * * * * * * * * * * * * * * * * * * * \n",
      "* * * * * * * * * * * * * * * * * * * * * * * * * * * * * * * * * * * * * * * * \n",
      "* * * * * * * * * * * * * * * * * * * * * * * * * * * * * * * * * * * * * * * * * \n",
      "* * * * * * * * * * * * * * * * * * * * * * * * * * * * * * * * * * * * * * * * * * \n",
      "* * * * * * * * * * * * * * * * * * * * * * * * * * * * * * * * * * * * * * * * * * * \n",
      "* * * * * * * * * * * * * * * * * * * * * * * * * * * * * * * * * * * * * * * * * * * * \n",
      "* * * * * * * * * * * * * * * * * * * * * * * * * * * * * * * * * * * * * * * * * * * * * \n",
      "* * * * * * * * * * * * * * * * * * * * * * * * * * * * * * * * * * * * * * * * * * * * * * \n",
      "* * * * * * * * * * * * * * * * * * * * * * * * * * * * * * * * * * * * * * * * * * * * * * * \n",
      "* * * * * * * * * * * * * * * * * * * * * * * * * * * * * * * * * * * * * * * * * * * * * * * * \n",
      "* * * * * * * * * * * * * * * * * * * * * * * * * * * * * * * * * * * * * * * * * * * * * * * * * \n",
      "* * * * * * * * * * * * * * * * * * * * * * * * * * * * * * * * * * * * * * * * * * * * * * * * * * \n",
      "* * * * * * * * * * * * * * * * * * * * * * * * * * * * * * * * * * * * * * * * * * * * * * * * * * * \n",
      "* * * * * * * * * * * * * * * * * * * * * * * * * * * * * * * * * * * * * * * * * * * * * * * * * * * * \n",
      "* * * * * * * * * * * * * * * * * * * * * * * * * * * * * * * * * * * * * * * * * * * * * * * * * * * * * \n",
      "* * * * * * * * * * * * * * * * * * * * * * * * * * * * * * * * * * * * * * * * * * * * * * * * * * * * * * \n",
      "* * * * * * * * * * * * * * * * * * * * * * * * * * * * * * * * * * * * * * * * * * * * * * * * * * * * * * * \n",
      "* * * * * * * * * * * * * * * * * * * * * * * * * * * * * * * * * * * * * * * * * * * * * * * * * * * * * * * * \n",
      "* * * * * * * * * * * * * * * * * * * * * * * * * * * * * * * * * * * * * * * * * * * * * * * * * * * * * * * * * \n",
      "* * * * * * * * * * * * * * * * * * * * * * * * * * * * * * * * * * * * * * * * * * * * * * * * * * * * * * * * * * \n",
      "* * * * * * * * * * * * * * * * * * * * * * * * * * * * * * * * * * * * * * * * * * * * * * * * * * * * * * * * * * * \n",
      "* * * * * * * * * * * * * * * * * * * * * * * * * * * * * * * * * * * * * * * * * * * * * * * * * * * * * * * * * * * * \n",
      "* * * * * * * * * * * * * * * * * * * * * * * * * * * * * * * * * * * * * * * * * * * * * * * * * * * * * * * * * * * * * \n",
      "* * * * * * * * * * * * * * * * * * * * * * * * * * * * * * * * * * * * * * * * * * * * * * * * * * * * * * * * * * * * * * \n",
      "* * * * * * * * * * * * * * * * * * * * * * * * * * * * * * * * * * * * * * * * * * * * * * * * * * * * * * * * * * * * * * * \n",
      "* * * * * * * * * * * * * * * * * * * * * * * * * * * * * * * * * * * * * * * * * * * * * * * * * * * * * * * * * * * * * * * * \n",
      "* * * * * * * * * * * * * * * * * * * * * * * * * * * * * * * * * * * * * * * * * * * * * * * * * * * * * * * * * * * * * * * * * \n",
      "* * * * * * * * * * * * * * * * * * * * * * * * * * * * * * * * * * * * * * * * * * * * * * * * * * * * * * * * * * * * * * * * * * \n",
      "* * * * * * * * * * * * * * * * * * * * * * * * * * * * * * * * * * * * * * * * * * * * * * * * * * * * * * * * * * * * * * * * * * * \n",
      "* * * * * * * * * * * * * * * * * * * * * * * * * * * * * * * * * * * * * * * * * * * * * * * * * * * * * * * * * * * * * * * * * * * * \n",
      "* * * * * * * * * * * * * * * * * * * * * * * * * * * * * * * * * * * * * * * * * * * * * * * * * * * * * * * * * * * * * * * * * * * * * \n",
      "* * * * * * * * * * * * * * * * * * * * * * * * * * * * * * * * * * * * * * * * * * * * * * * * * * * * * * * * * * * * * * * * * * * * * * \n",
      "* * * * * * * * * * * * * * * * * * * * * * * * * * * * * * * * * * * * * * * * * * * * * * * * * * * * * * * * * * * * * * * * * * * * * * * \n",
      "* * * * * * * * * * * * * * * * * * * * * * * * * * * * * * * * * * * * * * * * * * * * * * * * * * * * * * * * * * * * * * * * * * * * * * * * \n",
      "* * * * * * * * * * * * * * * * * * * * * * * * * * * * * * * * * * * * * * * * * * * * * * * * * * * * * * * * * * * * * * * * * * * * * * * * * \n",
      "* * * * * * * * * * * * * * * * * * * * * * * * * * * * * * * * * * * * * * * * * * * * * * * * * * * * * * * * * * * * * * * * * * * * * * * * * * \n",
      "* * * * * * * * * * * * * * * * * * * * * * * * * * * * * * * * * * * * * * * * * * * * * * * * * * * * * * * * * * * * * * * * * * * * * * * * * * * \n",
      "* * * * * * * * * * * * * * * * * * * * * * * * * * * * * * * * * * * * * * * * * * * * * * * * * * * * * * * * * * * * * * * * * * * * * * * * * * * * \n",
      "* * * * * * * * * * * * * * * * * * * * * * * * * * * * * * * * * * * * * * * * * * * * * * * * * * * * * * * * * * * * * * * * * * * * * * * * * * * * * \n",
      "* * * * * * * * * * * * * * * * * * * * * * * * * * * * * * * * * * * * * * * * * * * * * * * * * * * * * * * * * * * * * * * * * * * * * * * * * * * * * * \n",
      "* * * * * * * * * * * * * * * * * * * * * * * * * * * * * * * * * * * * * * * * * * * * * * * * * * * * * * * * * * * * * * * * * * * * * * * * * * * * * * * \n",
      "* * * * * * * * * * * * * * * * * * * * * * * * * * * * * * * * * * * * * * * * * * * * * * * * * * * * * * * * * * * * * * * * * * * * * * * * * * * * * * * * \n",
      "* * * * * * * * * * * * * * * * * * * * * * * * * * * * * * * * * * * * * * * * * * * * * * * * * * * * * * * * * * * * * * * * * * * * * * * * * * * * * * * * * \n",
      "* * * * * * * * * * * * * * * * * * * * * * * * * * * * * * * * * * * * * * * * * * * * * * * * * * * * * * * * * * * * * * * * * * * * * * * * * * * * * * * * * * \n",
      "* * * * * * * * * * * * * * * * * * * * * * * * * * * * * * * * * * * * * * * * * * * * * * * * * * * * * * * * * * * * * * * * * * * * * * * * * * * * * * * * * * * \n",
      "* * * * * * * * * * * * * * * * * * * * * * * * * * * * * * * * * * * * * * * * * * * * * * * * * * * * * * * * * * * * * * * * * * * * * * * * * * * * * * * * * * * * \n",
      "* * * * * * * * * * * * * * * * * * * * * * * * * * * * * * * * * * * * * * * * * * * * * * * * * * * * * * * * * * * * * * * * * * * * * * * * * * * * * * * * * * * * * \n",
      "* * * * * * * * * * * * * * * * * * * * * * * * * * * * * * * * * * * * * * * * * * * * * * * * * * * * * * * * * * * * * * * * * * * * * * * * * * * * * * * * * * * * * * \n",
      "* * * * * * * * * * * * * * * * * * * * * * * * * * * * * * * * * * * * * * * * * * * * * * * * * * * * * * * * * * * * * * * * * * * * * * * * * * * * * * * * * * * * * * * \n",
      "* * * * * * * * * * * * * * * * * * * * * * * * * * * * * * * * * * * * * * * * * * * * * * * * * * * * * * * * * * * * * * * * * * * * * * * * * * * * * * * * * * * * * * * * \n",
      "* * * * * * * * * * * * * * * * * * * * * * * * * * * * * * * * * * * * * * * * * * * * * * * * * * * * * * * * * * * * * * * * * * * * * * * * * * * * * * * * * * * * * * * * * \n",
      "* * * * * * * * * * * * * * * * * * * * * * * * * * * * * * * * * * * * * * * * * * * * * * * * * * * * * * * * * * * * * * * * * * * * * * * * * * * * * * * * * * * * * * * * * * \n",
      "* * * * * * * * * * * * * * * * * * * * * * * * * * * * * * * * * * * * * * * * * * * * * * * * * * * * * * * * * * * * * * * * * * * * * * * * * * * * * * * * * * * * * * * * * * * \n",
      "* * * * * * * * * * * * * * * * * * * * * * * * * * * * * * * * * * * * * * * * * * * * * * * * * * * * * * * * * * * * * * * * * * * * * * * * * * * * * * * * * * * * * * * * * * * * \n",
      "* * * * * * * * * * * * * * * * * * * * * * * * * * * * * * * * * * * * * * * * * * * * * * * * * * * * * * * * * * * * * * * * * * * * * * * * * * * * * * * * * * * * * * * * * * * * * \n",
      "* * * * * * * * * * * * * * * * * * * * * * * * * * * * * * * * * * * * * * * * * * * * * * * * * * * * * * * * * * * * * * * * * * * * * * * * * * * * * * * * * * * * * * * * * * * * * * \n",
      "* * * * * * * * * * * * * * * * * * * * * * * * * * * * * * * * * * * * * * * * * * * * * * * * * * * * * * * * * * * * * * * * * * * * * * * * * * * * * * * * * * * * * * * * * * * * * * * \n",
      "* * * * * * * * * * * * * * * * * * * * * * * * * * * * * * * * * * * * * * * * * * * * * * * * * * * * * * * * * * * * * * * * * * * * * * * * * * * * * * * * * * * * * * * * * * * * * * * * \n",
      "* * * * * * * * * * * * * * * * * * * * * * * * * * * * * * * * * * * * * * * * * * * * * * * * * * * * * * * * * * * * * * * * * * * * * * * * * * * * * * * * * * * * * * * * * * * * * * * * * \n",
      "* * * * * * * * * * * * * * * * * * * * * * * * * * * * * * * * * * * * * * * * * * * * * * * * * * * * * * * * * * * * * * * * * * * * * * * * * * * * * * * * * * * * * * * * * * * * * * * * * * \n",
      "* * * * * * * * * * * * * * * * * * * * * * * * * * * * * * * * * * * * * * * * * * * * * * * * * * * * * * * * * * * * * * * * * * * * * * * * * * * * * * * * * * * * * * * * * * * * * * * * * * * \n",
      "* * * * * * * * * * * * * * * * * * * * * * * * * * * * * * * * * * * * * * * * * * * * * * * * * * * * * * * * * * * * * * * * * * * * * * * * * * * * * * * * * * * * * * * * * * * * * * * * * * * * \n"
     ]
    }
   ],
   "source": [
    "s = int(input(\"Enter a number\"))\n",
    "\n",
    "for i in range(1,s+1):\n",
    "    print(\"* \"*i)\n",
    "    i += 1"
   ]
  },
  {
   "cell_type": "code",
   "execution_count": 31,
   "id": "f74d860a-8dff-4a38-a508-51ccc907a14f",
   "metadata": {},
   "outputs": [
    {
     "name": "stdin",
     "output_type": "stream",
     "text": [
      "Enter a number 15\n"
     ]
    },
    {
     "name": "stdout",
     "output_type": "stream",
     "text": [
      "1 \n",
      "1 2 \n",
      "1 2 3 \n",
      "1 2 3 4 \n",
      "1 2 3 4 5 \n",
      "1 2 3 4 5 6 \n",
      "1 2 3 4 5 6 7 \n",
      "1 2 3 4 5 6 7 8 \n",
      "1 2 3 4 5 6 7 8 9 \n",
      "1 2 3 4 5 6 7 8 9 10 \n",
      "1 2 3 4 5 6 7 8 9 10 11 \n",
      "1 2 3 4 5 6 7 8 9 10 11 12 \n",
      "1 2 3 4 5 6 7 8 9 10 11 12 13 \n",
      "1 2 3 4 5 6 7 8 9 10 11 12 13 14 \n",
      "1 2 3 4 5 6 7 8 9 10 11 12 13 14 15 \n"
     ]
    }
   ],
   "source": [
    "s = int(input(\"Enter a number\"))\n",
    "\n",
    "for i in range(1,s+1):\n",
    "    for j in range(1,i+1):\n",
    "        print(j,end=\" \")\n",
    "    print()\n",
    "    i += 1"
   ]
  },
  {
   "cell_type": "code",
   "execution_count": 33,
   "id": "f03caaf3-d674-47da-b96b-d1d16acc2f72",
   "metadata": {},
   "outputs": [
    {
     "name": "stdin",
     "output_type": "stream",
     "text": [
      "Enter a number 7\n"
     ]
    },
    {
     "name": "stdout",
     "output_type": "stream",
     "text": [
      "1 \n",
      "2 3 \n",
      "4 5 6 \n",
      "7 8 9 10 \n",
      "11 12 13 14 15 \n",
      "16 17 18 19 20 21 \n",
      "22 23 24 25 26 27 28 \n"
     ]
    }
   ],
   "source": [
    "def tri(n):\n",
    "    num = 1\n",
    "    for i in range(0,n):\n",
    "        for j in range(0,i+1):\n",
    "            print(num,end =\" \")\n",
    "            num += 1\n",
    "        print()\n",
    "\n",
    "n = int(input(\"Enter a number\"))\n",
    "tri(n)"
   ]
  },
  {
   "cell_type": "code",
   "execution_count": 41,
   "id": "1c8f6a99-e671-4606-bc22-dd918e291689",
   "metadata": {},
   "outputs": [
    {
     "name": "stdin",
     "output_type": "stream",
     "text": [
      "Enter a number 7\n"
     ]
    },
    {
     "name": "stdout",
     "output_type": "stream",
     "text": [
      "1 \n",
      "2 3 \n",
      "4 5 6 \n",
      "7 8 9 10 \n",
      "11 12 13 14 15 \n",
      "16 17 18 19 20 21 \n",
      "22 23 24 25 26 27 28 \n"
     ]
    }
   ],
   "source": [
    "#or\n",
    "\n",
    "s = int(input(\"Enter a number\"))\n",
    "p = 1\n",
    "for i in range(1,s+1):\n",
    "    for j in range(1,i+1):\n",
    "        print(p,end=\" \")\n",
    "        p += 1\n",
    "    print()\n",
    "    i += 1\n",
    "    "
   ]
  },
  {
   "cell_type": "code",
   "execution_count": 3,
   "id": "3afb8372-5eb4-405d-aa4a-758aaab30062",
   "metadata": {},
   "outputs": [
    {
     "name": "stdin",
     "output_type": "stream",
     "text": [
      "Enter a number 8\n"
     ]
    },
    {
     "name": "stdout",
     "output_type": "stream",
     "text": [
      "A \n",
      "B B \n",
      "C C C \n",
      "D D D D \n",
      "E E E E E \n",
      "F F F F F F \n",
      "G G G G G G G \n",
      "H H H H H H H H \n",
      "------------------------\n"
     ]
    },
    {
     "name": "stdin",
     "output_type": "stream",
     "text": [
      "Enter a number: 8\n"
     ]
    },
    {
     "name": "stdout",
     "output_type": "stream",
     "text": [
      "A \n",
      "B B \n",
      "C C C \n",
      "D D D D \n",
      "E E E E E \n",
      "F F F F F F \n",
      "G G G G G G G \n",
      "H H H H H H H H \n"
     ]
    }
   ],
   "source": [
    "def apha(n):\n",
    "    p = 65\n",
    "    for i in range(n):\n",
    "        for j in range(i+1):\n",
    "            ch = chr(p)\n",
    "            print(ch,end = \" \")\n",
    "        p += 1\n",
    "        print()\n",
    "\n",
    "n= int(input(\"Enter a number\"))\n",
    "apha(n)\n",
    "\n",
    "print(\"------------------------\")\n",
    "\n",
    "s = int(input(\"Enter a number:\"))\n",
    "p = 65\n",
    "for i in range(1,s+1):\n",
    "    for j in range(1,i+1):\n",
    "        print(chr(p),end=\" \")\n",
    "    p += 1\n",
    "    print()\n",
    "    i += 1\n",
    "\n",
    "        "
   ]
  },
  {
   "cell_type": "code",
   "execution_count": 19,
   "id": "17abb113-accc-4ece-9d7f-e4d9d0ae98f0",
   "metadata": {},
   "outputs": [
    {
     "name": "stdin",
     "output_type": "stream",
     "text": [
      "Enter a number: 26\n"
     ]
    },
    {
     "name": "stdout",
     "output_type": "stream",
     "text": [
      "A A A A A A A A A A A A A A A A A A A A A A A A A A \n",
      "B B B B B B B B B B B B B B B B B B B B B B B B B \n",
      "C C C C C C C C C C C C C C C C C C C C C C C C \n",
      "D D D D D D D D D D D D D D D D D D D D D D D \n",
      "E E E E E E E E E E E E E E E E E E E E E E \n",
      "F F F F F F F F F F F F F F F F F F F F F \n",
      "G G G G G G G G G G G G G G G G G G G G \n",
      "H H H H H H H H H H H H H H H H H H H \n",
      "I I I I I I I I I I I I I I I I I I \n",
      "J J J J J J J J J J J J J J J J J \n",
      "K K K K K K K K K K K K K K K K \n",
      "L L L L L L L L L L L L L L L \n",
      "M M M M M M M M M M M M M M \n",
      "N N N N N N N N N N N N N \n",
      "O O O O O O O O O O O O \n",
      "P P P P P P P P P P P \n",
      "Q Q Q Q Q Q Q Q Q Q \n",
      "R R R R R R R R R \n",
      "S S S S S S S S \n",
      "T T T T T T T \n",
      "U U U U U U \n",
      "V V V V V \n",
      "W W W W \n",
      "X X X \n",
      "Y Y \n",
      "Z \n"
     ]
    }
   ],
   "source": [
    "def apha(n):\n",
    "    p = 65\n",
    "    for i in range(n):\n",
    "        for j in range(i,n):\n",
    "            ch = chr(p)\n",
    "            print(ch,end = \" \")\n",
    "        p += 1\n",
    "        print()\n",
    "s=int(input(\"Enter a number:\"))\n",
    "apha(s)"
   ]
  },
  {
   "cell_type": "code",
   "execution_count": 23,
   "id": "1797cfc7-4158-4061-9ce3-ca95da9ef12e",
   "metadata": {},
   "outputs": [
    {
     "name": "stdin",
     "output_type": "stream",
     "text": [
      "Enter a number:  8\n"
     ]
    },
    {
     "name": "stdout",
     "output_type": "stream",
     "text": [
      "                A \n",
      "              B B B \n",
      "            C C C C C \n",
      "          D D D D D D D \n",
      "        E E E E E E E E E \n",
      "      F F F F F F F F F F F \n",
      "    G G G G G G G G G G G G G \n",
      "  H H H H H H H H H H H H H H H \n"
     ]
    }
   ],
   "source": [
    "def apha(n):\n",
    "    p = 65\n",
    "\n",
    "    for i in range(n):\n",
    "        for j in range(i,n):\n",
    "            print(\" \",end= \" \")\n",
    "        for j in range(i+1):\n",
    "            print(chr(p),end=\" \")\n",
    "        for j in range(i):\n",
    "            print(chr(p),end= \" \")\n",
    "        p += 1\n",
    "        print()\n",
    "        \n",
    "s= int(input(\"Enter a number: \"))\n",
    "apha(s)\n",
    "    "
   ]
  },
  {
   "cell_type": "code",
   "execution_count": 27,
   "id": "222d4a8a-ec0d-4be8-981b-67e61d5db632",
   "metadata": {},
   "outputs": [
    {
     "name": "stdin",
     "output_type": "stream",
     "text": [
      "Enter a number: 7\n"
     ]
    },
    {
     "name": "stdout",
     "output_type": "stream",
     "text": [
      "A \n",
      "B C \n",
      "D E F \n",
      "G H I J \n",
      "K L M N O \n",
      "P Q R S T U \n",
      "V W X Y Z [ \\ \n",
      "---------------------------\n"
     ]
    },
    {
     "name": "stdin",
     "output_type": "stream",
     "text": [
      "Enter a number: 7\n"
     ]
    },
    {
     "name": "stdout",
     "output_type": "stream",
     "text": [
      "A \n",
      "B C \n",
      "D E F \n",
      "G H I J \n",
      "K L M N O \n",
      "P Q R S T U \n",
      "V W X Y Z [ \\ \n"
     ]
    }
   ],
   "source": [
    "def apha(n):\n",
    "    p = 65\n",
    "    for i in range(n):\n",
    "        for j in range(i+1):\n",
    "            ch = chr(p)\n",
    "            p += 1\n",
    "            print(ch,end=\" \")\n",
    "        print()\n",
    "s=int(input(\"Enter a number:\"))\n",
    "apha(s)\n",
    "\n",
    "print(\"---------------------------\")\n",
    "\n",
    "n= int(input(\"Enter a number:\"))\n",
    "p = 65\n",
    "\n",
    "for i in range(n):\n",
    "    for j in range(i+1):\n",
    "        print(chr(p),end=\" \")\n",
    "        p += 1\n",
    "    print()"
   ]
  },
  {
   "cell_type": "code",
   "execution_count": 29,
   "id": "532225cf-cff2-4755-833d-98a35e80c26d",
   "metadata": {},
   "outputs": [
    {
     "name": "stdout",
     "output_type": "stream",
     "text": [
      "  A B C D E \n",
      "    F G H I \n",
      "      J K L \n",
      "        M N \n",
      "          O \n"
     ]
    }
   ],
   "source": [
    "n = 5\n",
    "p = 65 \n",
    "\n",
    "for i in range(n):\n",
    "    for j in range(i+1):\n",
    "        print(\" \",end = \" \")\n",
    "    for j in range(i,n):\n",
    "        print(chr(p),end = \" \")\n",
    "        p += 1\n",
    "    print()"
   ]
  },
  {
   "cell_type": "code",
   "execution_count": 1,
   "id": "ce19aabd-cbe5-4942-ade7-1f88d6872e0b",
   "metadata": {},
   "outputs": [
    {
     "name": "stdout",
     "output_type": "stream",
     "text": [
      "          A \n",
      "        B C \n",
      "      D E F \n",
      "    G H I J \n",
      "  K L M N O \n"
     ]
    }
   ],
   "source": [
    "n = 5\n",
    "p= 65 \n",
    "\n",
    "for i in range(n):\n",
    "    for j in range(i,n):\n",
    "        print(\" \",end = \" \")\n",
    "    for j in range(i+1):\n",
    "        print(chr(p),end= \" \")\n",
    "        p += 1\n",
    "    print()"
   ]
  },
  {
   "cell_type": "code",
   "execution_count": 5,
   "id": "a3873182-d853-4cc3-b742-01f6374aa12b",
   "metadata": {},
   "outputs": [
    {
     "name": "stdout",
     "output_type": "stream",
     "text": [
      "              A \n",
      "            B B B \n",
      "          C C C C C \n",
      "        D D D D D D D \n",
      "      E E E E E E E E E \n",
      "    F F F F F F F F F F F \n",
      "  G G G G G G G G G G G G G \n"
     ]
    }
   ],
   "source": [
    "def apha(n):\n",
    "    p = 65\n",
    "    for i in range(n):\n",
    "        for j in range(i,n):\n",
    "            print(\" \",end = \" \")\n",
    "        for j in range(i+1):\n",
    "            print(chr(p),end = \" \")\n",
    "        for j in range(i):\n",
    "            print(chr(p),end = \" \")\n",
    "        p += 1\n",
    "        print()\n",
    "apha(7)"
   ]
  },
  {
   "cell_type": "code",
   "execution_count": 7,
   "id": "f5711810-9404-414d-a23a-d61a10bbb18d",
   "metadata": {},
   "outputs": [
    {
     "name": "stdout",
     "output_type": "stream",
     "text": [
      "     A \n",
      "    A B \n",
      "   A B C \n",
      "  A B C D \n",
      " A B C D E \n"
     ]
    }
   ],
   "source": [
    "def apha(n):\n",
    "    num = 65\n",
    "    for i in range(n):\n",
    "        for j in range(i,n):\n",
    "            print(\" \",end = \"\")\n",
    "        for j in range(i+1):\n",
    "            print(chr(num),end= \" \")\n",
    "            num += 1\n",
    "        num = 65\n",
    "        print()\n",
    "apha(5)"
   ]
  },
  {
   "cell_type": "code",
   "execution_count": 11,
   "id": "992ea775-5040-4bea-beec-b6cf8d6dba01",
   "metadata": {},
   "outputs": [
    {
     "name": "stdout",
     "output_type": "stream",
     "text": [
      "     \n",
      "    A \n",
      "   B C \n",
      "  D E F \n",
      " G H I J \n",
      "K L M N O \n"
     ]
    }
   ],
   "source": [
    "def apha(n):\n",
    "    num = 65\n",
    "    for i in range(n+1):\n",
    "        for j in range(n-i):\n",
    "            print(\" \",end=\"\")\n",
    "        for j in range(1,i+1):\n",
    "            print(chr(num),end= \" \")\n",
    "            num += 1\n",
    "        print(\"\")\n",
    "apha(5)"
   ]
  },
  {
   "cell_type": "code",
   "execution_count": 13,
   "id": "4bf470c8-31f0-4d09-bc59-3024bab511bd",
   "metadata": {},
   "outputs": [],
   "source": [
    "#57 to 64 skip\n",
    "\n"
   ]
  },
  {
   "cell_type": "markdown",
   "id": "a95dda39-d212-4b7e-a0ed-3dcd67e241b6",
   "metadata": {},
   "source": [
    "## Palindrome"
   ]
  },
  {
   "cell_type": "code",
   "execution_count": 37,
   "id": "b0cc7fbf-f81d-42be-ba96-619428e78a32",
   "metadata": {},
   "outputs": [
    {
     "name": "stdin",
     "output_type": "stream",
     "text": [
      "Enter a number: 151\n"
     ]
    },
    {
     "name": "stdout",
     "output_type": "stream",
     "text": [
      "Yes\n"
     ]
    }
   ],
   "source": [
    "n = int(input(\"Enter a number:\"))\n",
    "\n",
    "original_number = n\n",
    "\n",
    "reversed_number = 0 \n",
    "\n",
    "while n != 0:\n",
    "    digit = n % 10\n",
    "    reversed_number = reversed_number * 10 + digit\n",
    "    n //= 10\n",
    "\n",
    "if reversed_number == original_number:\n",
    "    print(\"Yes\")\n",
    "else:\n",
    "    print(\"No\")\n",
    "    "
   ]
  },
  {
   "cell_type": "code",
   "execution_count": null,
   "id": "3e9f28dc-3700-431f-a4f3-bdfab4ca7b16",
   "metadata": {},
   "outputs": [],
   "source": [
    "#"
   ]
  }
 ],
 "metadata": {
  "kernelspec": {
   "display_name": "Python 3 (ipykernel)",
   "language": "python",
   "name": "python3"
  },
  "language_info": {
   "codemirror_mode": {
    "name": "ipython",
    "version": 3
   },
   "file_extension": ".py",
   "mimetype": "text/x-python",
   "name": "python",
   "nbconvert_exporter": "python",
   "pygments_lexer": "ipython3",
   "version": "3.12.4"
  }
 },
 "nbformat": 4,
 "nbformat_minor": 5
}
