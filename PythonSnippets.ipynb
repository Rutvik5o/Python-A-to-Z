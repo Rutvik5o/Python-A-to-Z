{
 "cells": [
  {
   "cell_type": "markdown",
   "id": "e3cbcdaf-7a27-45b2-86e6-e0d77b5a9e7f",
   "metadata": {},
   "source": [
    "## Anagrams : Same letters with differnt order"
   ]
  },
  {
   "cell_type": "code",
   "execution_count": 4,
   "id": "7e9894ee-cacc-4326-8f72-dc466859780d",
   "metadata": {},
   "outputs": [
    {
     "name": "stdout",
     "output_type": "stream",
     "text": [
      "True\n"
     ]
    }
   ],
   "source": [
    "str1 = \"listen\"\n",
    "str2 = \"slient\"\n",
    "\n",
    "str1 = str1.replace(\" \",\"\").upper()\n",
    "str2 = str2.replace(\" \",\"\").upper()\n",
    "\n",
    "if sorted(str1) == sorted(str2):\n",
    "    print(\"True\")\n",
    "else:\n",
    "    print(\"False\")\n",
    "    "
   ]
  },
  {
   "cell_type": "markdown",
   "id": "d65b666b-bd9b-4b09-b8ae-6404ba9bfa96",
   "metadata": {},
   "source": [
    "## check Palindrom using extended slicing technique"
   ]
  },
  {
   "cell_type": "code",
   "execution_count": 6,
   "id": "c0ee43eb-9bb4-4be1-9400-48e81d04cdc7",
   "metadata": {},
   "outputs": [
    {
     "name": "stdin",
     "output_type": "stream",
     "text": [
      "Enter text hello\n"
     ]
    },
    {
     "name": "stdout",
     "output_type": "stream",
     "text": [
      "False\n"
     ]
    }
   ],
   "source": [
    "str1 = str(input(\"Enter text\")).lower()\n",
    "\n",
    "if str1 == str1[::-1]:\n",
    "    print(\"True\")\n",
    "else:\n",
    "    print(\"False\")"
   ]
  },
  {
   "cell_type": "markdown",
   "id": "7622cd69-87d2-4d59-bff9-b3593d351d7c",
   "metadata": {},
   "source": [
    "## Count white space in a string"
   ]
  },
  {
   "cell_type": "code",
   "execution_count": 26,
   "id": "1fae4d0a-74c6-4840-a43d-886d29c30727",
   "metadata": {},
   "outputs": [
    {
     "name": "stdin",
     "output_type": "stream",
     "text": [
      "Enter a text hello sfi af sf    \n"
     ]
    },
    {
     "name": "stdout",
     "output_type": "stream",
     "text": [
      "7\n"
     ]
    }
   ],
   "source": [
    "string = str(input(\"Enter a text\"))\n",
    "\n",
    "print(string.count(\" \"))"
   ]
  },
  {
   "cell_type": "markdown",
   "id": "bfb16616-119f-465e-b62e-f994e580142f",
   "metadata": {},
   "source": [
    "## Counting Digits,letter and space in string"
   ]
  },
  {
   "cell_type": "code",
   "execution_count": 10,
   "id": "d839ff1f-b050-4fcc-b1e7-4e9171663eb2",
   "metadata": {},
   "outputs": [
    {
     "name": "stdin",
     "output_type": "stream",
     "text": [
      "Enter a text ha\n"
     ]
    },
    {
     "name": "stdout",
     "output_type": "stream",
     "text": [
      "0\n",
      "2\n",
      "0\n"
     ]
    }
   ],
   "source": [
    "import re\n",
    "\n",
    "name=input(\"Enter a text\")\n",
    "\n",
    "digitCount = re.sub(\"[^0-9]\",\"\",name)\n",
    "print(len(digitCount))\n",
    "#re.sub(pattern,replacement,string)\n",
    "#^ -> not \n",
    "# remove everything except digit\n",
    "\n",
    "letterCount = re.sub(\"[^a-zA-Z]\",\"\",name)\n",
    "print(len(letterCount))\n",
    "\n",
    "spaceCount= re.findall(r\"[\\s]\",name)\n",
    "print(len(spaceCount))"
   ]
  },
  {
   "cell_type": "markdown",
   "id": "26db6976-088b-464e-9b38-48b9552539a7",
   "metadata": {},
   "source": [
    "## Counting speacial charccer in a string\n",
    "\n"
   ]
  },
  {
   "cell_type": "code",
   "execution_count": 24,
   "id": "a15590ce-8e51-466d-8d7c-9a5ffadb993a",
   "metadata": {},
   "outputs": [
    {
     "name": "stdin",
     "output_type": "stream",
     "text": [
      "Enter a text heel sfsi * sheo ar ** @@\n"
     ]
    },
    {
     "data": {
      "text/plain": [
       "5"
      ]
     },
     "execution_count": 24,
     "metadata": {},
     "output_type": "execute_result"
    }
   ],
   "source": [
    "def count_sp_char(string):\n",
    "    sp_char = \"!@#$%^&*()_+{}'<>?\"\n",
    "    count = 0\n",
    "    for i in string:\n",
    "        if i in sp_char:\n",
    "            count += 1\n",
    "    return count\n",
    "text=str(input(\"Enter a text\"))\n",
    "result=count_sp_char(text)\n",
    "result"
   ]
  },
  {
   "cell_type": "markdown",
   "id": "fe385d3a-65bf-4bec-a6dd-73ec87ce6dd3",
   "metadata": {},
   "source": [
    "## Removing all whitespace in a string"
   ]
  },
  {
   "cell_type": "code",
   "execution_count": 28,
   "id": "155f6531-7283-4ecb-a352-f8fbe50a7f22",
   "metadata": {},
   "outputs": [
    {
     "name": "stdin",
     "output_type": "stream",
     "text": [
      "Enter a text hell fsif a f asf 8 * \n"
     ]
    },
    {
     "data": {
      "text/plain": [
       "'hellfsifafasf8*'"
      ]
     },
     "execution_count": 28,
     "metadata": {},
     "output_type": "execute_result"
    }
   ],
   "source": [
    "strr = input(\"Enter a text\")\n",
    "\n",
    "string2 = \"\".join(char for char in string if char != \" \")\n",
    "string2\n",
    "\n",
    "#another way\n",
    "string3 = strr.replace(\" \",\"\")\n",
    "string3\n",
    "\n",
    "#anoter way\n",
    "spaces = re.compile(r'\\s+') #prepare the pattern so you can reuse it\n",
    "result = re.sub(spaces,\"\",strr) #find all whitespace and replace with nothing\n",
    "result"
   ]
  },
  {
   "cell_type": "markdown",
   "id": "2d18784b-2b19-4811-9055-93d4a78d146d",
   "metadata": {},
   "source": [
    "## Python Pyramid"
   ]
  },
  {
   "cell_type": "code",
   "execution_count": 16,
   "id": "421c7810-9a88-44ab-bef8-ffa28561b22a",
   "metadata": {},
   "outputs": [
    {
     "name": "stdin",
     "output_type": "stream",
     "text": [
      "Enter the number that till you want to print: 5\n"
     ]
    },
    {
     "name": "stdout",
     "output_type": "stream",
     "text": [
      "     *\n",
      "    ***\n",
      "   *****\n",
      "  *******\n",
      " *********\n"
     ]
    }
   ],
   "source": [
    "def pyramid(n):\n",
    "    for i in range(n):\n",
    "        for j in range(i,n):\n",
    "            print(\" \",end=\"\")\n",
    "        for j in range(i+1):\n",
    "            print(\"*\",end=\"\")\n",
    "        for j in range(i):\n",
    "            print(\"*\",end=\"\")\n",
    "        print(\"\")\n",
    "num=int(input(\"Enter the number that till you want to print:\"))\n",
    "pyramid(num)"
   ]
  },
  {
   "cell_type": "code",
   "execution_count": 22,
   "id": "0a96d356-4f72-46c6-a49c-cbbe20384cb1",
   "metadata": {},
   "outputs": [
    {
     "name": "stdin",
     "output_type": "stream",
     "text": [
      "Enter odd number: 7\n"
     ]
    },
    {
     "name": "stdout",
     "output_type": "stream",
     "text": [
      "  *\n",
      " ***\n",
      "*****\n",
      " ***\n",
      "  *\n"
     ]
    }
   ],
   "source": [
    "number = int(input(\"Enter odd number:\"))\n",
    "cnt = num//2\n",
    "scnt=1\n",
    "\n",
    "for i in range(cnt+1):\n",
    "    print(cnt*\" \"+\"*\"*scnt)\n",
    "    cnt-=1\n",
    "    scnt+=2\n",
    "scnt=num-2\n",
    "cnt=1\n",
    "\n",
    "for i in range(num//2):\n",
    "    print(cnt*\" \"+\"*\"*scnt)\n",
    "    scnt-=2\n",
    "    cnt+=1"
   ]
  },
  {
   "cell_type": "markdown",
   "id": "e45e8cd6-1ffb-452c-aa6a-fd5d333dfcc1",
   "metadata": {},
   "source": [
    "## Randomizing the items of a list"
   ]
  },
  {
   "cell_type": "code",
   "execution_count": 35,
   "id": "fe3a81be-6113-4e84-a84b-669f530b3317",
   "metadata": {},
   "outputs": [
    {
     "data": {
      "text/plain": [
       "['is', 'easy', 'Python']"
      ]
     },
     "execution_count": 35,
     "metadata": {},
     "output_type": "execute_result"
    }
   ],
   "source": [
    "from random import shuffle\n",
    "\n",
    "l1 = [\"Python\",\"is\",\"easy\"]\n",
    "shuffle(l1)\n",
    "l1"
   ]
  },
  {
   "cell_type": "markdown",
   "id": "21ee8f06-0c1d-4e62-a47c-0435b4067c64",
   "metadata": {},
   "source": [
    "## Prime Generator"
   ]
  },
  {
   "cell_type": "code",
   "execution_count": 40,
   "id": "73c4af71-d41d-4d01-9685-a016f988aa04",
   "metadata": {},
   "outputs": [
    {
     "name": "stdin",
     "output_type": "stream",
     "text": [
      "Enter no. of prime numbers required 78\n"
     ]
    },
    {
     "name": "stdout",
     "output_type": "stream",
     "text": [
      "2 3 5 7 11 13 17 19 23 29 31 37 41 43 47 53 59 61 67 71 73 79 83 89 97 101 103 107 109 113 127 131 137 139 149 151 157 163 167 173 179 181 191 193 197 199 211 223 227 229 233 239 241 251 257 263 269 271 277 281 283 293 307 311 313 317 331 337 347 349 353 359 367 373 379 383 389 397 "
     ]
    }
   ],
   "source": [
    "def isprime(num):\n",
    "    for i in range(2,num):\n",
    "        if num % i == 0:\n",
    "            return False\n",
    "    return True\n",
    "\n",
    "def prime_generator(n):\n",
    "    num = 2\n",
    "    while n:\n",
    "        if isprime(num):\n",
    "            yield num #can be used return\n",
    "            n -= 1\n",
    "        num += 1\n",
    "x=int(input(\"Enter no. of prime numbers required\"))\n",
    "it = prime_generator(x)\n",
    "for e in it:\n",
    "    print(e,end=\" \")"
   ]
  },
  {
   "cell_type": "markdown",
   "id": "683c1da4-be18-49fa-af83-028b7026e05d",
   "metadata": {},
   "source": [
    "## Prime or not"
   ]
  },
  {
   "cell_type": "markdown",
   "id": "56ae4e8a-a4c6-4259-bf74-4164da600608",
   "metadata": {},
   "source": [
    "def prime_no(n):\n",
    "    flag = False\n",
    "    if n < 2:\n",
    "        return flag\n",
    "    else:\n",
    "        for i in range(2,n):\n",
    "            if n % i == 0:\n",
    "                return flag\n",
    "            else:\n",
    "                flag = True\n",
    "                return flag\n",
    "num = int(input(\"Enter a number:\"))\n",
    "prime_no(num)\n",
    "    "
   ]
  },
  {
   "cell_type": "code",
   "execution_count": 57,
   "id": "591e310a-7d58-48a2-99d6-aea90afb50a2",
   "metadata": {},
   "outputs": [
    {
     "name": "stdin",
     "output_type": "stream",
     "text": [
      "Enter a number: 87\n"
     ]
    },
    {
     "data": {
      "text/plain": [
       "False"
      ]
     },
     "execution_count": 57,
     "metadata": {},
     "output_type": "execute_result"
    }
   ],
   "source": [
    "def prime_no(n):\n",
    "    flag = False\n",
    "    if n < 2:\n",
    "        return flag\n",
    "    else:\n",
    "        for i in range(2,n):\n",
    "            if n % i == 0:\n",
    "                return flag\n",
    "        flag = true\n",
    "        return flag\n",
    "num = int(input(\"Enter a number:\"))\n",
    "prime_no(num)"
   ]
  },
  {
   "cell_type": "markdown",
   "id": "10c4dc6d-4c43-4f6c-82f4-6e5d272c15de",
   "metadata": {},
   "source": [
    "## variable length arg"
   ]
  },
  {
   "cell_type": "code",
   "execution_count": 68,
   "id": "eb821562-bdac-4eec-b840-b04593cb78c2",
   "metadata": {},
   "outputs": [
    {
     "name": "stdout",
     "output_type": "stream",
     "text": [
      "Average-> 35.94117647058823\n",
      "Average-> 161.66666666666666\n"
     ]
    }
   ],
   "source": [
    "def average(*t):\n",
    "    avg = sum(t)/len(t)\n",
    "    return avg\n",
    "\n",
    "result1 = average(43,5,47,8,2,4,8,5,8,8,7,4,4,4,441,8,5)\n",
    "result2 = average(825,85,47,7,1,5)\n",
    "print(\"Average->\",result1)\n",
    "print(\"Average->\",result2)"
   ]
  },
  {
   "cell_type": "markdown",
   "id": "8b695ded-7e6d-4bf3-a33d-496e83170f94",
   "metadata": {},
   "source": [
    "## with kwargs"
   ]
  },
  {
   "cell_type": "code",
   "execution_count": 73,
   "id": "05bb43c5-2be1-4a71-a343-c67848cf8a66",
   "metadata": {},
   "outputs": [
    {
     "name": "stdout",
     "output_type": "stream",
     "text": [
      "Average is: 52.75\n",
      "Average is: 20.75\n"
     ]
    }
   ],
   "source": [
    "def average_kw(**kwargs):\n",
    "    values = list(kwargs.values())\n",
    "    avg = sum(values)/len(values)\n",
    "    return avg\n",
    "\n",
    "result1 = average_kw(num1=32,num2=35,num3=65,num4=79)\n",
    "result2 = average_kw(value1=5,values2=10,values3=15,value4=53)\n",
    "\n",
    "print(f\"Average is: {result1:.2f}\")\n",
    "print(f\"Average is: {result2:.2f}\")"
   ]
  },
  {
   "cell_type": "markdown",
   "id": "9af2837e-a302-45ad-89b3-e4f8552286ee",
   "metadata": {},
   "source": [
    "## Instance Variable"
   ]
  },
  {
   "cell_type": "code",
   "execution_count": 77,
   "id": "8664ee0c-cd6b-4ef7-886c-8bf111bec22c",
   "metadata": {},
   "outputs": [
    {
     "name": "stdout",
     "output_type": "stream",
     "text": [
      "{'a': 5, 'b': 10, 'c': 15}\n",
      "{'a': 5}\n"
     ]
    }
   ],
   "source": [
    "class test:\n",
    "    def __init__(self):\n",
    "        self.a = 5\n",
    "    def f1(self):\n",
    "        self.b = 10\n",
    "t1 = test()\n",
    "t2 = test()\n",
    "t1.f1()\n",
    "t1.c = 15 #3rd instance variable\n",
    "print(t1.__dict__)\n",
    "print(t2.__dict__)\n"
   ]
  },
  {
   "cell_type": "markdown",
   "id": "748db606-c3fc-4359-94f6-1ad0fc24bcf2",
   "metadata": {},
   "source": [
    "## Lambda Function"
   ]
  },
  {
   "cell_type": "code",
   "execution_count": 83,
   "id": "274a1c1d-2ebd-4a94-bdfb-235c750d1fa7",
   "metadata": {},
   "outputs": [
    {
     "name": "stdout",
     "output_type": "stream",
     "text": [
      "10\n",
      "92\n"
     ]
    }
   ],
   "source": [
    "f = lambda a,b : a+b\n",
    "r = f(3,7)\n",
    "print(r)\n",
    "#or\n",
    "print((lambda a,b:a+b)(85,7))"
   ]
  },
  {
   "cell_type": "markdown",
   "id": "4f81bcb9-b66c-4aba-bb30-288de14c2870",
   "metadata": {},
   "source": [
    "## Finding Factorail usig Lambda"
   ]
  },
  {
   "cell_type": "code",
   "execution_count": 6,
   "id": "ef1e7eb1-c210-4ed1-b4d4-405db508b7c7",
   "metadata": {},
   "outputs": [
    {
     "data": {
      "text/plain": [
       "120"
      ]
     },
     "execution_count": 6,
     "metadata": {},
     "output_type": "execute_result"
    }
   ],
   "source": [
    "f = lambda n : 1 if n == 0 else n*f(n-1)\n",
    "f(5)"
   ]
  },
  {
   "cell_type": "code",
   "execution_count": 12,
   "id": "1596523b-ddbe-49c4-b998-6628a0c81a0f",
   "metadata": {},
   "outputs": [
    {
     "name": "stdin",
     "output_type": "stream",
     "text": [
      "Enter a number: 74\n"
     ]
    },
    {
     "name": "stdout",
     "output_type": "stream",
     "text": [
      "The Factorial of 74 is  330788544151938641225953028221253782145683251820934971170611926835411235700971565459250872320000000000000000\n"
     ]
    }
   ],
   "source": [
    "num = int(input(\"Enter a number:\"))\n",
    "\n",
    "factorial = 1\n",
    "\n",
    "if num < 0:\n",
    "    print(\"Sorry, factorial does not exist for negative number\")\n",
    "elif num == 0:\n",
    "    print(\"The Factorial of 0 is 1\")\n",
    "else:\n",
    "    for i in range(1,num+1):\n",
    "        factorial *= i\n",
    "    print(f\"The Factorial of {num} is \",factorial)"
   ]
  },
  {
   "cell_type": "markdown",
   "id": "a0703c49-607d-4351-9ae6-6ae906cce820",
   "metadata": {},
   "source": [
    "## List Comprehension"
   ]
  },
  {
   "cell_type": "code",
   "execution_count": 25,
   "id": "b273f8c3-4b2e-4865-8690-2340d33cdbaf",
   "metadata": {},
   "outputs": [
    {
     "name": "stdout",
     "output_type": "stream",
     "text": [
      "[2, 4, 6, 8, 10, 12, 14, 16, 18]\n",
      "[33, 5, 5, 26325, 5, 263, 1, 452343]\n"
     ]
    }
   ],
   "source": [
    "l1 = [2*e for e in range(1,10)]\n",
    "print(l1)\n",
    "\n",
    "l2 = [34,5,6,6,26326,6,3,264,2,452344,53]\n",
    "l3 = [e-1 for e in l2 if e%2==0]\n",
    "print(l3)"
   ]
  },
  {
   "cell_type": "markdown",
   "id": "eb0fbfb7-903b-4d13-ba00-66ce896e22dd",
   "metadata": {},
   "source": [
    "## Use of split & Join function"
   ]
  },
  {
   "cell_type": "code",
   "execution_count": 29,
   "id": "ec862cb3-4391-4bb7-932b-ea5e2feb58fd",
   "metadata": {},
   "outputs": [
    {
     "name": "stdout",
     "output_type": "stream",
     "text": [
      "['what', 'is', 'right', 'in', 'your', 'mind', 'is', 'right', 'in', 'your', 'world']\n",
      "['world', 'your', 'in', 'right', 'is', 'mind', 'your', 'in', 'right', 'is', 'what']\n",
      "world your in right is mind your in right is what\n"
     ]
    }
   ],
   "source": [
    "s = \"what is right in your mind is right in your world\"\n",
    "s1=s.split(\" \")\n",
    "print(s1)\n",
    "\n",
    "#Reverse\n",
    "s1=s1[::-1]\n",
    "print(s1)\n",
    "\n",
    "#join\n",
    "print(\" \".join(s1))"
   ]
  },
  {
   "cell_type": "markdown",
   "id": "ceb91ebe-7b27-4e33-9c1f-9fcb5da245f1",
   "metadata": {},
   "source": [
    "## Global & Local Variable"
   ]
  },
  {
   "cell_type": "code",
   "execution_count": 32,
   "id": "ac849851-6bda-46d2-a5e1-69b3b0e4479c",
   "metadata": {},
   "outputs": [
    {
     "name": "stdout",
     "output_type": "stream",
     "text": [
      "x=15 y=10\n",
      "15\n"
     ]
    }
   ],
   "source": [
    "x = 5\n",
    "def f1():\n",
    "    global x\n",
    "    x = 15 #global variable updated\n",
    "    y = 10 #local variable\n",
    "    print(\"x=%d y=%d\"%(x,y))\n",
    "f1()\n",
    "print(x)"
   ]
  },
  {
   "cell_type": "markdown",
   "id": "bd1aa2fa-e6e7-491b-a203-7550e107914c",
   "metadata": {},
   "source": [
    "## Global Function"
   ]
  },
  {
   "cell_type": "code",
   "execution_count": 37,
   "id": "1f75e3a1-79d2-4fc7-996f-ef7d40fba002",
   "metadata": {},
   "outputs": [
    {
     "name": "stdout",
     "output_type": "stream",
     "text": [
      "Local x = 10 Global x = 5\n"
     ]
    }
   ],
   "source": [
    "x = 5\n",
    "def fun():\n",
    "    x = 10\n",
    "    #globals() : function to access or modify global variables\n",
    "    d = globals()\n",
    "    #d['x'] = 15\n",
    "    print(\"Local x = %d Global x = %d\"%(x,d['x']))\n",
    "fun()"
   ]
  },
  {
   "cell_type": "markdown",
   "id": "e072d484-7335-4389-89d5-8506740d08cd",
   "metadata": {},
   "source": [
    "## Type conversion Basics"
   ]
  },
  {
   "cell_type": "code",
   "execution_count": 42,
   "id": "a9882281-a27e-4a8a-bb43-c2e9c0ac6207",
   "metadata": {},
   "outputs": [
    {
     "name": "stdout",
     "output_type": "stream",
     "text": [
      "123\n",
      "123.43\n",
      "(3+4j)\n",
      "12\n",
      "True\n",
      "0b11001\n",
      "0o31\n",
      "0x19\n",
      "65\n",
      "b\n"
     ]
    }
   ],
   "source": [
    "x = int('123')\n",
    "a = float('123.43')\n",
    "b = complex('3+4j')\n",
    "c = str(12)\n",
    "d = bool('True')\n",
    "e = bin(25)\n",
    "f = oct(25)\n",
    "g = hex(25)\n",
    "h = ord('A') # char -> unicode\n",
    "i = chr(98) # unicode -> char\n",
    "print(x,a,b,c,d,e,f,g,h,i,sep=\"\\n\")"
   ]
  },
  {
   "cell_type": "markdown",
   "id": "93d8ebd4-ffca-4ca6-aa6b-df359d41c3b0",
   "metadata": {},
   "source": [
    "## Type Conversion"
   ]
  },
  {
   "cell_type": "code",
   "execution_count": 46,
   "id": "6aefc2ba-dd7b-4d40-8b28-8f84c7a9e04c",
   "metadata": {},
   "outputs": [
    {
     "name": "stdout",
     "output_type": "stream",
     "text": [
      "<class 'int'>\n",
      "<class 'str'>\n",
      "5123\n",
      "128\n"
     ]
    }
   ],
   "source": [
    "x = 5\n",
    "print(type(x))\n",
    "\n",
    "s1='123'\n",
    "print(type(s1))\n",
    "print(str(x) + s1)\n",
    "print(x + int(s1))\n"
   ]
  },
  {
   "cell_type": "markdown",
   "id": "0e7a48f9-3539-46ee-977c-204043baf78e",
   "metadata": {},
   "source": [
    "## Python Decorator"
   ]
  },
  {
   "cell_type": "code",
   "execution_count": 7,
   "id": "8d35113a-c594-4c01-9472-221c25a62863",
   "metadata": {},
   "outputs": [
    {
     "name": "stdout",
     "output_type": "stream",
     "text": [
      "Before hello function\n",
      "Hello\n",
      "Thanks for using the function\n",
      "Before hello function\n",
      "4\n",
      "Thanks for using the function\n"
     ]
    }
   ],
   "source": [
    "def welcome(fx):\n",
    "    def mfx(*t,**d):\n",
    "        print(\"Before hello function\")\n",
    "        fx(*t,**d) #*args to take argumnet as tuple, **kwargs to take arguments\n",
    "        print(\"Thanks for using the function\")\n",
    "    return mfx\n",
    "\n",
    "#decorator function without arguments\n",
    "@welcome\n",
    "def hello():\n",
    "    print(\"Hello\")\n",
    "\n",
    "#decorator function with arguments\n",
    "@welcome\n",
    "def add(a,b):\n",
    "    print(a+b)\n",
    "\n",
    "hello()\n",
    "add(1,3)"
   ]
  },
  {
   "cell_type": "code",
   "execution_count": 11,
   "id": "1ab37c10-fbd2-4ba4-9ca2-6c4962352eb7",
   "metadata": {},
   "outputs": [
    {
     "data": {
      "text/plain": [
       "900"
      ]
     },
     "execution_count": 11,
     "metadata": {},
     "output_type": "execute_result"
    }
   ],
   "source": [
    "# Class Decorator\n",
    "\n",
    "class Calculator:\n",
    "    def __init__(self,func):\n",
    "        self.function = func\n",
    "\n",
    "    def __call__(self,*t,**d):\n",
    "        result = self.function(*t,**d)\n",
    "        return result**2\n",
    "\n",
    "@Calculator\n",
    "def add(a,b):\n",
    "    return a+b\n",
    "\n",
    "add(10,20)\n"
   ]
  },
  {
   "cell_type": "code",
   "execution_count": null,
   "id": "03b8bec1-149f-454a-8606-22dbc97c3135",
   "metadata": {},
   "outputs": [],
   "source": [
    "def decor_result(result_function):\n",
    "    def distinction(marks):\n",
    "        results = []\n",
    "        for m in marks:\n",
    "            if m > = 75:\n",
    "                print(\"Distinction\")\n",
    "            results.append(result_function([m]))\n",
    "        return results\n",
    "\n",
    "@decor_result\n",
    "def result(marks):\n",
    "    for m in marks:\n",
    "        if m >= 35:\n",
    "            pass\n",
    "        else:\n",
    "            print(\"Fail\")\n",
    "            return \"Fail\"\n",
    "    else:\n",
    "        print(\"Pass\")\n",
    "        return \"Pass\"\n",
    "\n",
    "#Get the results for each element\n",
    "results = result([45,65,63,26,36,16,263"
   ]
  },
  {
   "cell_type": "markdown",
   "id": "2db4ebff-2f8e-4ead-8591-71a6378cb1ca",
   "metadata": {},
   "source": [
    "## Iterator in Python"
   ]
  },
  {
   "cell_type": "code",
   "execution_count": 5,
   "id": "a6256e6c-caee-47ae-a9b1-6f8403b76130",
   "metadata": {},
   "outputs": [
    {
     "name": "stdout",
     "output_type": "stream",
     "text": [
      "343\n",
      "5\n",
      "25\n",
      "263\n",
      "6\n",
      "12\n",
      "62\n"
     ]
    }
   ],
   "source": [
    "l1 = [343,5,25,263,6,12,62]\n",
    "it = iter(l1)\n",
    "\n",
    "while True:\n",
    "    try:\n",
    "        print(next(it))\n",
    "    except StopIteration:\n",
    "        break"
   ]
  },
  {
   "cell_type": "code",
   "execution_count": null,
   "id": "8b51a47b-1bf6-4db8-ac54-62470576cba1",
   "metadata": {},
   "outputs": [],
   "source": []
  }
 ],
 "metadata": {
  "kernelspec": {
   "display_name": "Python 3 (ipykernel)",
   "language": "python",
   "name": "python3"
  },
  "language_info": {
   "codemirror_mode": {
    "name": "ipython",
    "version": 3
   },
   "file_extension": ".py",
   "mimetype": "text/x-python",
   "name": "python",
   "nbconvert_exporter": "python",
   "pygments_lexer": "ipython3",
   "version": "3.12.4"
  }
 },
 "nbformat": 4,
 "nbformat_minor": 5
}
